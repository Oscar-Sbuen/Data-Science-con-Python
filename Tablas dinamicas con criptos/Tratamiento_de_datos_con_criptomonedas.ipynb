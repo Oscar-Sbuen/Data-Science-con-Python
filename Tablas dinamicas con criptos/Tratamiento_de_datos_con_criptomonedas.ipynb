{
  "nbformat": 4,
  "nbformat_minor": 0,
  "metadata": {
    "colab": {
      "name": "Tratamiento de datos con criptomonedas.ipynb",
      "provenance": []
    },
    "kernelspec": {
      "name": "python3",
      "display_name": "Python 3"
    },
    "language_info": {
      "name": "python"
    }
  },
  "cells": [
    {
      "cell_type": "markdown",
      "source": [
        " **Tratamiento de datos con critomonedas**"
      ],
      "metadata": {
        "id": "FQNboFhcXyF_"
      }
    },
    {
      "cell_type": "code",
      "execution_count": 28,
      "metadata": {
        "colab": {
          "base_uri": "https://localhost:8080/"
        },
        "id": "9j2Vgh1qXnhK",
        "outputId": "8dac878b-a448-42d9-c825-f35d640ec902"
      },
      "outputs": [
        {
          "output_type": "stream",
          "name": "stdout",
          "text": [
            "Looking in indexes: https://pypi.org/simple, https://us-python.pkg.dev/colab-wheels/public/simple/\n",
            "Requirement already satisfied: yfinance in /usr/local/lib/python3.7/dist-packages (0.1.70)\n",
            "Requirement already satisfied: numpy>=1.15 in /usr/local/lib/python3.7/dist-packages (from yfinance) (1.21.6)\n",
            "Requirement already satisfied: requests>=2.26 in /usr/local/lib/python3.7/dist-packages (from yfinance) (2.27.1)\n",
            "Requirement already satisfied: lxml>=4.5.1 in /usr/local/lib/python3.7/dist-packages (from yfinance) (4.9.0)\n",
            "Requirement already satisfied: pandas>=0.24.0 in /usr/local/lib/python3.7/dist-packages (from yfinance) (1.3.5)\n",
            "Requirement already satisfied: multitasking>=0.0.7 in /usr/local/lib/python3.7/dist-packages (from yfinance) (0.0.10)\n",
            "Requirement already satisfied: python-dateutil>=2.7.3 in /usr/local/lib/python3.7/dist-packages (from pandas>=0.24.0->yfinance) (2.8.2)\n",
            "Requirement already satisfied: pytz>=2017.3 in /usr/local/lib/python3.7/dist-packages (from pandas>=0.24.0->yfinance) (2022.1)\n",
            "Requirement already satisfied: six>=1.5 in /usr/local/lib/python3.7/dist-packages (from python-dateutil>=2.7.3->pandas>=0.24.0->yfinance) (1.15.0)\n",
            "Requirement already satisfied: idna<4,>=2.5 in /usr/local/lib/python3.7/dist-packages (from requests>=2.26->yfinance) (2.10)\n",
            "Requirement already satisfied: certifi>=2017.4.17 in /usr/local/lib/python3.7/dist-packages (from requests>=2.26->yfinance) (2022.5.18.1)\n",
            "Requirement already satisfied: charset-normalizer~=2.0.0 in /usr/local/lib/python3.7/dist-packages (from requests>=2.26->yfinance) (2.0.12)\n",
            "Requirement already satisfied: urllib3<1.27,>=1.21.1 in /usr/local/lib/python3.7/dist-packages (from requests>=2.26->yfinance) (1.24.3)\n",
            "Looking in indexes: https://pypi.org/simple, https://us-python.pkg.dev/colab-wheels/public/simple/\n",
            "Requirement already satisfied: cufflinks in /usr/local/lib/python3.7/dist-packages (0.17.3)\n",
            "Requirement already satisfied: setuptools>=34.4.1 in /usr/local/lib/python3.7/dist-packages (from cufflinks) (57.4.0)\n",
            "Requirement already satisfied: numpy>=1.9.2 in /usr/local/lib/python3.7/dist-packages (from cufflinks) (1.21.6)\n",
            "Requirement already satisfied: plotly>=4.1.1 in /usr/local/lib/python3.7/dist-packages (from cufflinks) (5.5.0)\n",
            "Requirement already satisfied: pandas>=0.19.2 in /usr/local/lib/python3.7/dist-packages (from cufflinks) (1.3.5)\n",
            "Requirement already satisfied: ipython>=5.3.0 in /usr/local/lib/python3.7/dist-packages (from cufflinks) (5.5.0)\n",
            "Requirement already satisfied: six>=1.9.0 in /usr/local/lib/python3.7/dist-packages (from cufflinks) (1.15.0)\n",
            "Requirement already satisfied: ipywidgets>=7.0.0 in /usr/local/lib/python3.7/dist-packages (from cufflinks) (7.7.0)\n",
            "Requirement already satisfied: colorlover>=0.2.1 in /usr/local/lib/python3.7/dist-packages (from cufflinks) (0.3.0)\n",
            "Requirement already satisfied: decorator in /usr/local/lib/python3.7/dist-packages (from ipython>=5.3.0->cufflinks) (4.4.2)\n",
            "Requirement already satisfied: simplegeneric>0.8 in /usr/local/lib/python3.7/dist-packages (from ipython>=5.3.0->cufflinks) (0.8.1)\n",
            "Requirement already satisfied: traitlets>=4.2 in /usr/local/lib/python3.7/dist-packages (from ipython>=5.3.0->cufflinks) (5.1.1)\n",
            "Requirement already satisfied: pygments in /usr/local/lib/python3.7/dist-packages (from ipython>=5.3.0->cufflinks) (2.6.1)\n",
            "Requirement already satisfied: prompt-toolkit<2.0.0,>=1.0.4 in /usr/local/lib/python3.7/dist-packages (from ipython>=5.3.0->cufflinks) (1.0.18)\n",
            "Requirement already satisfied: pexpect in /usr/local/lib/python3.7/dist-packages (from ipython>=5.3.0->cufflinks) (4.8.0)\n",
            "Requirement already satisfied: pickleshare in /usr/local/lib/python3.7/dist-packages (from ipython>=5.3.0->cufflinks) (0.7.5)\n",
            "Requirement already satisfied: nbformat>=4.2.0 in /usr/local/lib/python3.7/dist-packages (from ipywidgets>=7.0.0->cufflinks) (5.4.0)\n",
            "Requirement already satisfied: ipython-genutils~=0.2.0 in /usr/local/lib/python3.7/dist-packages (from ipywidgets>=7.0.0->cufflinks) (0.2.0)\n",
            "Requirement already satisfied: jupyterlab-widgets>=1.0.0 in /usr/local/lib/python3.7/dist-packages (from ipywidgets>=7.0.0->cufflinks) (1.1.0)\n",
            "Requirement already satisfied: widgetsnbextension~=3.6.0 in /usr/local/lib/python3.7/dist-packages (from ipywidgets>=7.0.0->cufflinks) (3.6.0)\n",
            "Requirement already satisfied: ipykernel>=4.5.1 in /usr/local/lib/python3.7/dist-packages (from ipywidgets>=7.0.0->cufflinks) (4.10.1)\n",
            "Requirement already satisfied: jupyter-client in /usr/local/lib/python3.7/dist-packages (from ipykernel>=4.5.1->ipywidgets>=7.0.0->cufflinks) (5.3.5)\n",
            "Requirement already satisfied: tornado>=4.0 in /usr/local/lib/python3.7/dist-packages (from ipykernel>=4.5.1->ipywidgets>=7.0.0->cufflinks) (5.1.1)\n",
            "Requirement already satisfied: jupyter-core in /usr/local/lib/python3.7/dist-packages (from nbformat>=4.2.0->ipywidgets>=7.0.0->cufflinks) (4.10.0)\n",
            "Requirement already satisfied: jsonschema>=2.6 in /usr/local/lib/python3.7/dist-packages (from nbformat>=4.2.0->ipywidgets>=7.0.0->cufflinks) (4.3.3)\n",
            "Requirement already satisfied: fastjsonschema in /usr/local/lib/python3.7/dist-packages (from nbformat>=4.2.0->ipywidgets>=7.0.0->cufflinks) (2.15.3)\n",
            "Requirement already satisfied: attrs>=17.4.0 in /usr/local/lib/python3.7/dist-packages (from jsonschema>=2.6->nbformat>=4.2.0->ipywidgets>=7.0.0->cufflinks) (21.4.0)\n",
            "Requirement already satisfied: pyrsistent!=0.17.0,!=0.17.1,!=0.17.2,>=0.14.0 in /usr/local/lib/python3.7/dist-packages (from jsonschema>=2.6->nbformat>=4.2.0->ipywidgets>=7.0.0->cufflinks) (0.18.1)\n",
            "Requirement already satisfied: importlib-resources>=1.4.0 in /usr/local/lib/python3.7/dist-packages (from jsonschema>=2.6->nbformat>=4.2.0->ipywidgets>=7.0.0->cufflinks) (5.7.1)\n",
            "Requirement already satisfied: importlib-metadata in /usr/local/lib/python3.7/dist-packages (from jsonschema>=2.6->nbformat>=4.2.0->ipywidgets>=7.0.0->cufflinks) (4.11.4)\n",
            "Requirement already satisfied: typing-extensions in /usr/local/lib/python3.7/dist-packages (from jsonschema>=2.6->nbformat>=4.2.0->ipywidgets>=7.0.0->cufflinks) (4.2.0)\n",
            "Requirement already satisfied: zipp>=3.1.0 in /usr/local/lib/python3.7/dist-packages (from importlib-resources>=1.4.0->jsonschema>=2.6->nbformat>=4.2.0->ipywidgets>=7.0.0->cufflinks) (3.8.0)\n",
            "Requirement already satisfied: pytz>=2017.3 in /usr/local/lib/python3.7/dist-packages (from pandas>=0.19.2->cufflinks) (2022.1)\n",
            "Requirement already satisfied: python-dateutil>=2.7.3 in /usr/local/lib/python3.7/dist-packages (from pandas>=0.19.2->cufflinks) (2.8.2)\n",
            "Requirement already satisfied: tenacity>=6.2.0 in /usr/local/lib/python3.7/dist-packages (from plotly>=4.1.1->cufflinks) (8.0.1)\n",
            "Requirement already satisfied: wcwidth in /usr/local/lib/python3.7/dist-packages (from prompt-toolkit<2.0.0,>=1.0.4->ipython>=5.3.0->cufflinks) (0.2.5)\n",
            "Requirement already satisfied: notebook>=4.4.1 in /usr/local/lib/python3.7/dist-packages (from widgetsnbextension~=3.6.0->ipywidgets>=7.0.0->cufflinks) (5.3.1)\n",
            "Requirement already satisfied: Send2Trash in /usr/local/lib/python3.7/dist-packages (from notebook>=4.4.1->widgetsnbextension~=3.6.0->ipywidgets>=7.0.0->cufflinks) (1.8.0)\n",
            "Requirement already satisfied: nbconvert in /usr/local/lib/python3.7/dist-packages (from notebook>=4.4.1->widgetsnbextension~=3.6.0->ipywidgets>=7.0.0->cufflinks) (5.6.1)\n",
            "Requirement already satisfied: jinja2 in /usr/local/lib/python3.7/dist-packages (from notebook>=4.4.1->widgetsnbextension~=3.6.0->ipywidgets>=7.0.0->cufflinks) (2.11.3)\n",
            "Requirement already satisfied: terminado>=0.8.1 in /usr/local/lib/python3.7/dist-packages (from notebook>=4.4.1->widgetsnbextension~=3.6.0->ipywidgets>=7.0.0->cufflinks) (0.13.3)\n",
            "Requirement already satisfied: pyzmq>=13 in /usr/local/lib/python3.7/dist-packages (from jupyter-client->ipykernel>=4.5.1->ipywidgets>=7.0.0->cufflinks) (23.0.0)\n",
            "Requirement already satisfied: ptyprocess in /usr/local/lib/python3.7/dist-packages (from terminado>=0.8.1->notebook>=4.4.1->widgetsnbextension~=3.6.0->ipywidgets>=7.0.0->cufflinks) (0.7.0)\n",
            "Requirement already satisfied: MarkupSafe>=0.23 in /usr/local/lib/python3.7/dist-packages (from jinja2->notebook>=4.4.1->widgetsnbextension~=3.6.0->ipywidgets>=7.0.0->cufflinks) (2.0.1)\n",
            "Requirement already satisfied: mistune<2,>=0.8.1 in /usr/local/lib/python3.7/dist-packages (from nbconvert->notebook>=4.4.1->widgetsnbextension~=3.6.0->ipywidgets>=7.0.0->cufflinks) (0.8.4)\n",
            "Requirement already satisfied: entrypoints>=0.2.2 in /usr/local/lib/python3.7/dist-packages (from nbconvert->notebook>=4.4.1->widgetsnbextension~=3.6.0->ipywidgets>=7.0.0->cufflinks) (0.4)\n",
            "Requirement already satisfied: defusedxml in /usr/local/lib/python3.7/dist-packages (from nbconvert->notebook>=4.4.1->widgetsnbextension~=3.6.0->ipywidgets>=7.0.0->cufflinks) (0.7.1)\n",
            "Requirement already satisfied: pandocfilters>=1.4.1 in /usr/local/lib/python3.7/dist-packages (from nbconvert->notebook>=4.4.1->widgetsnbextension~=3.6.0->ipywidgets>=7.0.0->cufflinks) (1.5.0)\n",
            "Requirement already satisfied: bleach in /usr/local/lib/python3.7/dist-packages (from nbconvert->notebook>=4.4.1->widgetsnbextension~=3.6.0->ipywidgets>=7.0.0->cufflinks) (5.0.0)\n",
            "Requirement already satisfied: testpath in /usr/local/lib/python3.7/dist-packages (from nbconvert->notebook>=4.4.1->widgetsnbextension~=3.6.0->ipywidgets>=7.0.0->cufflinks) (0.6.0)\n",
            "Requirement already satisfied: webencodings in /usr/local/lib/python3.7/dist-packages (from bleach->nbconvert->notebook>=4.4.1->widgetsnbextension~=3.6.0->ipywidgets>=7.0.0->cufflinks) (0.5.1)\n"
          ]
        }
      ],
      "source": [
        "! pip install yfinance\n",
        "! pip install cufflinks"
      ]
    },
    {
      "cell_type": "code",
      "source": [
        "import yfinance as yf\n",
        "import pandas as pd\n",
        "import numpy as np\n",
        "import matplotlib.pyplot as plt\n"
      ],
      "metadata": {
        "id": "KLF9dDo3YLLM"
      },
      "execution_count": 29,
      "outputs": []
    },
    {
      "cell_type": "code",
      "source": [
        "ticker='BTC-USD'"
      ],
      "metadata": {
        "id": "aibBoOtIYpy1"
      },
      "execution_count": 3,
      "outputs": []
    },
    {
      "cell_type": "code",
      "source": [
        "df_BTC=yf.download(ticker, start=\"2020-12-01\",end=\"2022-06-03\")"
      ],
      "metadata": {
        "colab": {
          "base_uri": "https://localhost:8080/"
        },
        "id": "fPyBSfVAYMoy",
        "outputId": "4ddec14c-9f2b-484e-a8b8-8071e903b2e6"
      },
      "execution_count": 57,
      "outputs": [
        {
          "output_type": "stream",
          "name": "stdout",
          "text": [
            "\r[*********************100%***********************]  1 of 1 completed\n"
          ]
        }
      ]
    },
    {
      "cell_type": "code",
      "source": [
        "df_BTC"
      ],
      "metadata": {
        "colab": {
          "base_uri": "https://localhost:8080/",
          "height": 455
        },
        "id": "9oQhk9kadbm5",
        "outputId": "970d70b5-9bfc-479d-9f2a-627ae3872b7b"
      },
      "execution_count": 58,
      "outputs": [
        {
          "output_type": "execute_result",
          "data": {
            "text/plain": [
              "                Open      High       Low     Close  Adj Close      Volume\n",
              "Date                                                                     \n",
              "2020-12-01  0.171367  0.173851  0.146573  0.155983   0.155983  2071556994\n",
              "2020-12-02  0.155956  0.159662  0.151429  0.158557   0.158557  1367595805\n",
              "2020-12-03  0.158592  0.168009  0.155936  0.164212   0.164212  1287927035\n",
              "2020-12-04  0.164209  0.164506  0.146964  0.148241   0.148241  1200621758\n",
              "2020-12-05  0.148164  0.161383  0.146795  0.159668   0.159668  1036100099\n",
              "...              ...       ...       ...       ...        ...         ...\n",
              "2022-05-30  0.481134  0.574956  0.478083  0.570073   0.570073  1185015742\n",
              "2022-05-31  0.570000  0.682313  0.569636  0.625254   0.625254  3269050143\n",
              "2022-06-01  0.625417  0.629977  0.540809  0.552750   0.552750  1404107650\n",
              "2022-06-02  0.552636  0.595811  0.550444  0.587795   0.587795  1257661647\n",
              "2022-06-03  0.587836  0.603290  0.541486  0.559658   0.559658   910186327\n",
              "\n",
              "[550 rows x 6 columns]"
            ],
            "text/html": [
              "\n",
              "  <div id=\"df-01e653ca-0ada-4250-8a95-ee16c5dbb833\">\n",
              "    <div class=\"colab-df-container\">\n",
              "      <div>\n",
              "<style scoped>\n",
              "    .dataframe tbody tr th:only-of-type {\n",
              "        vertical-align: middle;\n",
              "    }\n",
              "\n",
              "    .dataframe tbody tr th {\n",
              "        vertical-align: top;\n",
              "    }\n",
              "\n",
              "    .dataframe thead th {\n",
              "        text-align: right;\n",
              "    }\n",
              "</style>\n",
              "<table border=\"1\" class=\"dataframe\">\n",
              "  <thead>\n",
              "    <tr style=\"text-align: right;\">\n",
              "      <th></th>\n",
              "      <th>Open</th>\n",
              "      <th>High</th>\n",
              "      <th>Low</th>\n",
              "      <th>Close</th>\n",
              "      <th>Adj Close</th>\n",
              "      <th>Volume</th>\n",
              "    </tr>\n",
              "    <tr>\n",
              "      <th>Date</th>\n",
              "      <th></th>\n",
              "      <th></th>\n",
              "      <th></th>\n",
              "      <th></th>\n",
              "      <th></th>\n",
              "      <th></th>\n",
              "    </tr>\n",
              "  </thead>\n",
              "  <tbody>\n",
              "    <tr>\n",
              "      <th>2020-12-01</th>\n",
              "      <td>0.171367</td>\n",
              "      <td>0.173851</td>\n",
              "      <td>0.146573</td>\n",
              "      <td>0.155983</td>\n",
              "      <td>0.155983</td>\n",
              "      <td>2071556994</td>\n",
              "    </tr>\n",
              "    <tr>\n",
              "      <th>2020-12-02</th>\n",
              "      <td>0.155956</td>\n",
              "      <td>0.159662</td>\n",
              "      <td>0.151429</td>\n",
              "      <td>0.158557</td>\n",
              "      <td>0.158557</td>\n",
              "      <td>1367595805</td>\n",
              "    </tr>\n",
              "    <tr>\n",
              "      <th>2020-12-03</th>\n",
              "      <td>0.158592</td>\n",
              "      <td>0.168009</td>\n",
              "      <td>0.155936</td>\n",
              "      <td>0.164212</td>\n",
              "      <td>0.164212</td>\n",
              "      <td>1287927035</td>\n",
              "    </tr>\n",
              "    <tr>\n",
              "      <th>2020-12-04</th>\n",
              "      <td>0.164209</td>\n",
              "      <td>0.164506</td>\n",
              "      <td>0.146964</td>\n",
              "      <td>0.148241</td>\n",
              "      <td>0.148241</td>\n",
              "      <td>1200621758</td>\n",
              "    </tr>\n",
              "    <tr>\n",
              "      <th>2020-12-05</th>\n",
              "      <td>0.148164</td>\n",
              "      <td>0.161383</td>\n",
              "      <td>0.146795</td>\n",
              "      <td>0.159668</td>\n",
              "      <td>0.159668</td>\n",
              "      <td>1036100099</td>\n",
              "    </tr>\n",
              "    <tr>\n",
              "      <th>...</th>\n",
              "      <td>...</td>\n",
              "      <td>...</td>\n",
              "      <td>...</td>\n",
              "      <td>...</td>\n",
              "      <td>...</td>\n",
              "      <td>...</td>\n",
              "    </tr>\n",
              "    <tr>\n",
              "      <th>2022-05-30</th>\n",
              "      <td>0.481134</td>\n",
              "      <td>0.574956</td>\n",
              "      <td>0.478083</td>\n",
              "      <td>0.570073</td>\n",
              "      <td>0.570073</td>\n",
              "      <td>1185015742</td>\n",
              "    </tr>\n",
              "    <tr>\n",
              "      <th>2022-05-31</th>\n",
              "      <td>0.570000</td>\n",
              "      <td>0.682313</td>\n",
              "      <td>0.569636</td>\n",
              "      <td>0.625254</td>\n",
              "      <td>0.625254</td>\n",
              "      <td>3269050143</td>\n",
              "    </tr>\n",
              "    <tr>\n",
              "      <th>2022-06-01</th>\n",
              "      <td>0.625417</td>\n",
              "      <td>0.629977</td>\n",
              "      <td>0.540809</td>\n",
              "      <td>0.552750</td>\n",
              "      <td>0.552750</td>\n",
              "      <td>1404107650</td>\n",
              "    </tr>\n",
              "    <tr>\n",
              "      <th>2022-06-02</th>\n",
              "      <td>0.552636</td>\n",
              "      <td>0.595811</td>\n",
              "      <td>0.550444</td>\n",
              "      <td>0.587795</td>\n",
              "      <td>0.587795</td>\n",
              "      <td>1257661647</td>\n",
              "    </tr>\n",
              "    <tr>\n",
              "      <th>2022-06-03</th>\n",
              "      <td>0.587836</td>\n",
              "      <td>0.603290</td>\n",
              "      <td>0.541486</td>\n",
              "      <td>0.559658</td>\n",
              "      <td>0.559658</td>\n",
              "      <td>910186327</td>\n",
              "    </tr>\n",
              "  </tbody>\n",
              "</table>\n",
              "<p>550 rows × 6 columns</p>\n",
              "</div>\n",
              "      <button class=\"colab-df-convert\" onclick=\"convertToInteractive('df-01e653ca-0ada-4250-8a95-ee16c5dbb833')\"\n",
              "              title=\"Convert this dataframe to an interactive table.\"\n",
              "              style=\"display:none;\">\n",
              "        \n",
              "  <svg xmlns=\"http://www.w3.org/2000/svg\" height=\"24px\"viewBox=\"0 0 24 24\"\n",
              "       width=\"24px\">\n",
              "    <path d=\"M0 0h24v24H0V0z\" fill=\"none\"/>\n",
              "    <path d=\"M18.56 5.44l.94 2.06.94-2.06 2.06-.94-2.06-.94-.94-2.06-.94 2.06-2.06.94zm-11 1L8.5 8.5l.94-2.06 2.06-.94-2.06-.94L8.5 2.5l-.94 2.06-2.06.94zm10 10l.94 2.06.94-2.06 2.06-.94-2.06-.94-.94-2.06-.94 2.06-2.06.94z\"/><path d=\"M17.41 7.96l-1.37-1.37c-.4-.4-.92-.59-1.43-.59-.52 0-1.04.2-1.43.59L10.3 9.45l-7.72 7.72c-.78.78-.78 2.05 0 2.83L4 21.41c.39.39.9.59 1.41.59.51 0 1.02-.2 1.41-.59l7.78-7.78 2.81-2.81c.8-.78.8-2.07 0-2.86zM5.41 20L4 18.59l7.72-7.72 1.47 1.35L5.41 20z\"/>\n",
              "  </svg>\n",
              "      </button>\n",
              "      \n",
              "  <style>\n",
              "    .colab-df-container {\n",
              "      display:flex;\n",
              "      flex-wrap:wrap;\n",
              "      gap: 12px;\n",
              "    }\n",
              "\n",
              "    .colab-df-convert {\n",
              "      background-color: #E8F0FE;\n",
              "      border: none;\n",
              "      border-radius: 50%;\n",
              "      cursor: pointer;\n",
              "      display: none;\n",
              "      fill: #1967D2;\n",
              "      height: 32px;\n",
              "      padding: 0 0 0 0;\n",
              "      width: 32px;\n",
              "    }\n",
              "\n",
              "    .colab-df-convert:hover {\n",
              "      background-color: #E2EBFA;\n",
              "      box-shadow: 0px 1px 2px rgba(60, 64, 67, 0.3), 0px 1px 3px 1px rgba(60, 64, 67, 0.15);\n",
              "      fill: #174EA6;\n",
              "    }\n",
              "\n",
              "    [theme=dark] .colab-df-convert {\n",
              "      background-color: #3B4455;\n",
              "      fill: #D2E3FC;\n",
              "    }\n",
              "\n",
              "    [theme=dark] .colab-df-convert:hover {\n",
              "      background-color: #434B5C;\n",
              "      box-shadow: 0px 1px 3px 1px rgba(0, 0, 0, 0.15);\n",
              "      filter: drop-shadow(0px 1px 2px rgba(0, 0, 0, 0.3));\n",
              "      fill: #FFFFFF;\n",
              "    }\n",
              "  </style>\n",
              "\n",
              "      <script>\n",
              "        const buttonEl =\n",
              "          document.querySelector('#df-01e653ca-0ada-4250-8a95-ee16c5dbb833 button.colab-df-convert');\n",
              "        buttonEl.style.display =\n",
              "          google.colab.kernel.accessAllowed ? 'block' : 'none';\n",
              "\n",
              "        async function convertToInteractive(key) {\n",
              "          const element = document.querySelector('#df-01e653ca-0ada-4250-8a95-ee16c5dbb833');\n",
              "          const dataTable =\n",
              "            await google.colab.kernel.invokeFunction('convertToInteractive',\n",
              "                                                     [key], {});\n",
              "          if (!dataTable) return;\n",
              "\n",
              "          const docLinkHtml = 'Like what you see? Visit the ' +\n",
              "            '<a target=\"_blank\" href=https://colab.research.google.com/notebooks/data_table.ipynb>data table notebook</a>'\n",
              "            + ' to learn more about interactive tables.';\n",
              "          element.innerHTML = '';\n",
              "          dataTable['output_type'] = 'display_data';\n",
              "          await google.colab.output.renderOutput(dataTable, element);\n",
              "          const docLink = document.createElement('div');\n",
              "          docLink.innerHTML = docLinkHtml;\n",
              "          element.appendChild(docLink);\n",
              "        }\n",
              "      </script>\n",
              "    </div>\n",
              "  </div>\n",
              "  "
            ]
          },
          "metadata": {},
          "execution_count": 58
        }
      ]
    },
    {
      "cell_type": "code",
      "source": [
        "criptos_mone=['BTC-USD','ETH-USD','DOGE-USD','BNB-USD','ADA-USD']"
      ],
      "metadata": {
        "id": "CsdixOr4YMhO"
      },
      "execution_count": 6,
      "outputs": []
    },
    {
      "cell_type": "code",
      "source": [
        "criptos_info = dict()"
      ],
      "metadata": {
        "id": "iC3ReP-oY-QE"
      },
      "execution_count": 7,
      "outputs": []
    },
    {
      "cell_type": "code",
      "source": [
        "for ticker in criptos_mone:\n",
        "  criptos_info[ticker]=df_market=yf.download(ticker, start=\"2020-12-01\",end=\"2022-06-03\")\n",
        "  print(f'{ticker} - ok')"
      ],
      "metadata": {
        "colab": {
          "base_uri": "https://localhost:8080/"
        },
        "id": "q4utyaJGZ_HS",
        "outputId": "28031edb-6aa5-4b85-a2c7-522e35593d62"
      },
      "execution_count": 8,
      "outputs": [
        {
          "output_type": "stream",
          "name": "stdout",
          "text": [
            "[*********************100%***********************]  1 of 1 completed\n",
            "BTC-USD - ok\n",
            "[*********************100%***********************]  1 of 1 completed\n",
            "ETH-USD - ok\n",
            "[*********************100%***********************]  1 of 1 completed\n",
            "DOGE-USD - ok\n",
            "[*********************100%***********************]  1 of 1 completed\n",
            "BNB-USD - ok\n",
            "[*********************100%***********************]  1 of 1 completed\n",
            "ADA-USD - ok\n"
          ]
        }
      ]
    },
    {
      "cell_type": "code",
      "source": [
        "criptos_info"
      ],
      "metadata": {
        "colab": {
          "base_uri": "https://localhost:8080/"
        },
        "id": "xnN1ooOxarBR",
        "outputId": "4f415ded-ca6e-4072-92ec-532909874a87"
      },
      "execution_count": 9,
      "outputs": [
        {
          "output_type": "execute_result",
          "data": {
            "text/plain": [
              "{'ADA-USD':                 Open      High       Low     Close  Adj Close      Volume\n",
              " Date                                                                     \n",
              " 2020-12-01  0.171367  0.173851  0.146573  0.155983   0.155983  2071556994\n",
              " 2020-12-02  0.155956  0.159662  0.151429  0.158557   0.158557  1367595805\n",
              " 2020-12-03  0.158592  0.168009  0.155936  0.164212   0.164212  1287927035\n",
              " 2020-12-04  0.164209  0.164506  0.146964  0.148241   0.148241  1200621758\n",
              " 2020-12-05  0.148164  0.161383  0.146795  0.159668   0.159668  1036100099\n",
              " ...              ...       ...       ...       ...        ...         ...\n",
              " 2022-05-30  0.481134  0.574956  0.478083  0.570073   0.570073  1185015742\n",
              " 2022-05-31  0.570000  0.682313  0.569636  0.625254   0.625254  3269050143\n",
              " 2022-06-01  0.625417  0.629977  0.540809  0.552750   0.552750  1404107650\n",
              " 2022-06-02  0.552636  0.595811  0.550444  0.587795   0.587795  1257661647\n",
              " 2022-06-03  0.587836  0.603290  0.541486  0.559658   0.559658   910186327\n",
              " \n",
              " [550 rows x 6 columns],\n",
              " 'BNB-USD':                   Open        High         Low       Close   Adj Close  \\\n",
              " Date                                                                     \n",
              " 2020-12-01   31.411509   31.871908   29.484135   30.108303   30.108303   \n",
              " 2020-12-02   30.147505   30.910141   29.748901   30.297361   30.297361   \n",
              " 2020-12-03   30.303986   30.769117   29.978310   30.704430   30.704430   \n",
              " 2020-12-04   30.716002   31.116619   28.925531   29.072208   29.072208   \n",
              " 2020-12-05   29.075138   30.002951   28.757483   29.729488   29.729488   \n",
              " ...                ...         ...         ...         ...         ...   \n",
              " 2022-05-30  305.944092  323.257782  304.336578  321.752899  321.752899   \n",
              " 2022-05-31  321.720306  323.701355  314.275513  320.485107  320.485107   \n",
              " 2022-06-01  320.472015  323.885071  297.968597  300.504059  300.504059   \n",
              " 2022-06-02  300.466461  309.040894  298.671204  308.101776  308.101776   \n",
              " 2022-06-03  308.194183  309.856720  293.863068  298.397888  298.397888   \n",
              " \n",
              "                 Volume  \n",
              " Date                    \n",
              " 2020-12-01   467818960  \n",
              " 2020-12-02   371441750  \n",
              " 2020-12-03   324897560  \n",
              " 2020-12-04   362626786  \n",
              " 2020-12-05   307895991  \n",
              " ...                ...  \n",
              " 2022-05-30  2064357375  \n",
              " 2022-05-31  1711532960  \n",
              " 2022-06-01  1763624947  \n",
              " 2022-06-02  1228180850  \n",
              " 2022-06-03  1115211127  \n",
              " \n",
              " [550 rows x 6 columns],\n",
              " 'BTC-USD':                     Open          High           Low         Close  \\\n",
              " Date                                                                 \n",
              " 2020-12-01  19633.769531  19845.974609  18321.921875  18802.998047   \n",
              " 2020-12-02  18801.744141  19308.330078  18347.718750  19201.091797   \n",
              " 2020-12-03  19205.925781  19566.191406  18925.785156  19445.398438   \n",
              " 2020-12-04  19446.966797  19511.404297  18697.193359  18699.765625   \n",
              " 2020-12-05  18698.384766  19160.449219  18590.193359  19154.230469   \n",
              " ...                  ...           ...           ...           ...   \n",
              " 2022-05-30  29443.365234  31949.630859  29303.572266  31726.390625   \n",
              " 2022-05-31  31723.865234  32249.863281  31286.154297  31792.310547   \n",
              " 2022-06-01  31792.554688  31957.285156  29501.587891  29799.080078   \n",
              " 2022-06-02  29794.890625  30604.734375  29652.705078  30467.488281   \n",
              " 2022-06-03  30467.806641  30633.035156  29375.689453  29704.390625   \n",
              " \n",
              "                Adj Close       Volume  \n",
              " Date                                   \n",
              " 2020-12-01  18802.998047  49633658712  \n",
              " 2020-12-02  19201.091797  37387697139  \n",
              " 2020-12-03  19445.398438  31930317405  \n",
              " 2020-12-04  18699.765625  33872388058  \n",
              " 2020-12-05  19154.230469  27242455064  \n",
              " ...                  ...          ...  \n",
              " 2022-05-30  31726.390625  39277993274  \n",
              " 2022-05-31  31792.310547  33538210634  \n",
              " 2022-06-01  29799.080078  41135817341  \n",
              " 2022-06-02  30467.488281  29083562061  \n",
              " 2022-06-03  29704.390625  26175547452  \n",
              " \n",
              " [550 rows x 6 columns],\n",
              " 'DOGE-USD':                 Open      High       Low     Close  Adj Close     Volume\n",
              " Date                                                                    \n",
              " 2020-12-01  0.003551  0.003572  0.003269  0.003335   0.003335   80163603\n",
              " 2020-12-02  0.003335  0.003436  0.003293  0.003374   0.003374   58705661\n",
              " 2020-12-03  0.003375  0.003500  0.003352  0.003428   0.003428   47907032\n",
              " 2020-12-04  0.003429  0.003447  0.003285  0.003298   0.003298   45062222\n",
              " 2020-12-05  0.003297  0.003414  0.003268  0.003397   0.003397   43386583\n",
              " ...              ...       ...       ...       ...        ...        ...\n",
              " 2022-05-30  0.082684  0.088275  0.082269  0.087871   0.087871  690696756\n",
              " 2022-05-31  0.087865  0.088230  0.083612  0.085865   0.085865  672444588\n",
              " 2022-06-01  0.085855  0.088647  0.079807  0.081056   0.081056  830748610\n",
              " 2022-06-02  0.081052  0.083007  0.080417  0.082772   0.082772  434510607\n",
              " 2022-06-03  0.082777  0.082857  0.079756  0.080442   0.080442  403339248\n",
              " \n",
              " [550 rows x 6 columns],\n",
              " 'ETH-USD':                    Open         High          Low        Close    Adj Close  \\\n",
              " Date                                                                          \n",
              " 2020-12-01   615.070312   635.160583   571.753967   587.324158   587.324158   \n",
              " 2020-12-02   587.261597   604.022461   578.741028   598.352356   598.352356   \n",
              " 2020-12-03   598.459229   622.452698   588.346375   616.708740   616.708740   \n",
              " 2020-12-04   616.722778   618.983154   569.283508   569.354187   569.354187   \n",
              " 2020-12-05   569.347656   596.595459   563.106628   596.595459   596.595459   \n",
              " ...                 ...          ...          ...          ...          ...   \n",
              " 2022-05-30  1811.885986  2005.210815  1804.456055  1996.441284  1996.441284   \n",
              " 2022-05-31  1996.408081  2005.490967  1932.352051  1942.328003  1942.328003   \n",
              " 2022-06-01  1942.050659  1965.166626  1776.053223  1823.569336  1823.569336   \n",
              " 2022-06-02  1822.412109  1845.313965  1789.664185  1834.150513  1834.150513   \n",
              " 2022-06-03  1834.135010  1840.058838  1746.509766  1775.078613  1775.078613   \n",
              " \n",
              "                  Volume  \n",
              " Date                     \n",
              " 2020-12-01  27178964465  \n",
              " 2020-12-02  16883292129  \n",
              " 2020-12-03  16146190946  \n",
              " 2020-12-04  16337589997  \n",
              " 2020-12-05  13498010566  \n",
              " ...                 ...  \n",
              " 2022-05-30  19580808705  \n",
              " 2022-05-31  18363115560  \n",
              " 2022-06-01  21037797760  \n",
              " 2022-06-02  17065041354  \n",
              " 2022-06-03  14878001811  \n",
              " \n",
              " [550 rows x 6 columns]}"
            ]
          },
          "metadata": {},
          "execution_count": 9
        }
      ]
    },
    {
      "cell_type": "code",
      "source": [
        "criptos_info.keys()"
      ],
      "metadata": {
        "colab": {
          "base_uri": "https://localhost:8080/"
        },
        "id": "uB4anTdab1kn",
        "outputId": "eda0c5ac-ace1-4574-d3c2-763c46efe847"
      },
      "execution_count": 10,
      "outputs": [
        {
          "output_type": "execute_result",
          "data": {
            "text/plain": [
              "dict_keys(['BTC-USD', 'ETH-USD', 'DOGE-USD', 'BNB-USD', 'ADA-USD'])"
            ]
          },
          "metadata": {},
          "execution_count": 10
        }
      ]
    },
    {
      "cell_type": "code",
      "source": [
        "criptos_info.values()"
      ],
      "metadata": {
        "colab": {
          "base_uri": "https://localhost:8080/"
        },
        "id": "z9o1A4HPb7iG",
        "outputId": "70e714fc-79e3-471f-b464-004ed86eea5c"
      },
      "execution_count": 11,
      "outputs": [
        {
          "output_type": "execute_result",
          "data": {
            "text/plain": [
              "dict_values([                    Open          High           Low         Close  \\\n",
              "Date                                                                 \n",
              "2020-12-01  19633.769531  19845.974609  18321.921875  18802.998047   \n",
              "2020-12-02  18801.744141  19308.330078  18347.718750  19201.091797   \n",
              "2020-12-03  19205.925781  19566.191406  18925.785156  19445.398438   \n",
              "2020-12-04  19446.966797  19511.404297  18697.193359  18699.765625   \n",
              "2020-12-05  18698.384766  19160.449219  18590.193359  19154.230469   \n",
              "...                  ...           ...           ...           ...   \n",
              "2022-05-30  29443.365234  31949.630859  29303.572266  31726.390625   \n",
              "2022-05-31  31723.865234  32249.863281  31286.154297  31792.310547   \n",
              "2022-06-01  31792.554688  31957.285156  29501.587891  29799.080078   \n",
              "2022-06-02  29794.890625  30604.734375  29652.705078  30467.488281   \n",
              "2022-06-03  30467.806641  30633.035156  29375.689453  29704.390625   \n",
              "\n",
              "               Adj Close       Volume  \n",
              "Date                                   \n",
              "2020-12-01  18802.998047  49633658712  \n",
              "2020-12-02  19201.091797  37387697139  \n",
              "2020-12-03  19445.398438  31930317405  \n",
              "2020-12-04  18699.765625  33872388058  \n",
              "2020-12-05  19154.230469  27242455064  \n",
              "...                  ...          ...  \n",
              "2022-05-30  31726.390625  39277993274  \n",
              "2022-05-31  31792.310547  33538210634  \n",
              "2022-06-01  29799.080078  41135817341  \n",
              "2022-06-02  30467.488281  29083562061  \n",
              "2022-06-03  29704.390625  26175547452  \n",
              "\n",
              "[550 rows x 6 columns],                    Open         High          Low        Close    Adj Close  \\\n",
              "Date                                                                          \n",
              "2020-12-01   615.070312   635.160583   571.753967   587.324158   587.324158   \n",
              "2020-12-02   587.261597   604.022461   578.741028   598.352356   598.352356   \n",
              "2020-12-03   598.459229   622.452698   588.346375   616.708740   616.708740   \n",
              "2020-12-04   616.722778   618.983154   569.283508   569.354187   569.354187   \n",
              "2020-12-05   569.347656   596.595459   563.106628   596.595459   596.595459   \n",
              "...                 ...          ...          ...          ...          ...   \n",
              "2022-05-30  1811.885986  2005.210815  1804.456055  1996.441284  1996.441284   \n",
              "2022-05-31  1996.408081  2005.490967  1932.352051  1942.328003  1942.328003   \n",
              "2022-06-01  1942.050659  1965.166626  1776.053223  1823.569336  1823.569336   \n",
              "2022-06-02  1822.412109  1845.313965  1789.664185  1834.150513  1834.150513   \n",
              "2022-06-03  1834.135010  1840.058838  1746.509766  1775.078613  1775.078613   \n",
              "\n",
              "                 Volume  \n",
              "Date                     \n",
              "2020-12-01  27178964465  \n",
              "2020-12-02  16883292129  \n",
              "2020-12-03  16146190946  \n",
              "2020-12-04  16337589997  \n",
              "2020-12-05  13498010566  \n",
              "...                 ...  \n",
              "2022-05-30  19580808705  \n",
              "2022-05-31  18363115560  \n",
              "2022-06-01  21037797760  \n",
              "2022-06-02  17065041354  \n",
              "2022-06-03  14878001811  \n",
              "\n",
              "[550 rows x 6 columns],                 Open      High       Low     Close  Adj Close     Volume\n",
              "Date                                                                    \n",
              "2020-12-01  0.003551  0.003572  0.003269  0.003335   0.003335   80163603\n",
              "2020-12-02  0.003335  0.003436  0.003293  0.003374   0.003374   58705661\n",
              "2020-12-03  0.003375  0.003500  0.003352  0.003428   0.003428   47907032\n",
              "2020-12-04  0.003429  0.003447  0.003285  0.003298   0.003298   45062222\n",
              "2020-12-05  0.003297  0.003414  0.003268  0.003397   0.003397   43386583\n",
              "...              ...       ...       ...       ...        ...        ...\n",
              "2022-05-30  0.082684  0.088275  0.082269  0.087871   0.087871  690696756\n",
              "2022-05-31  0.087865  0.088230  0.083612  0.085865   0.085865  672444588\n",
              "2022-06-01  0.085855  0.088647  0.079807  0.081056   0.081056  830748610\n",
              "2022-06-02  0.081052  0.083007  0.080417  0.082772   0.082772  434510607\n",
              "2022-06-03  0.082777  0.082857  0.079756  0.080442   0.080442  403339248\n",
              "\n",
              "[550 rows x 6 columns],                   Open        High         Low       Close   Adj Close  \\\n",
              "Date                                                                     \n",
              "2020-12-01   31.411509   31.871908   29.484135   30.108303   30.108303   \n",
              "2020-12-02   30.147505   30.910141   29.748901   30.297361   30.297361   \n",
              "2020-12-03   30.303986   30.769117   29.978310   30.704430   30.704430   \n",
              "2020-12-04   30.716002   31.116619   28.925531   29.072208   29.072208   \n",
              "2020-12-05   29.075138   30.002951   28.757483   29.729488   29.729488   \n",
              "...                ...         ...         ...         ...         ...   \n",
              "2022-05-30  305.944092  323.257782  304.336578  321.752899  321.752899   \n",
              "2022-05-31  321.720306  323.701355  314.275513  320.485107  320.485107   \n",
              "2022-06-01  320.472015  323.885071  297.968597  300.504059  300.504059   \n",
              "2022-06-02  300.466461  309.040894  298.671204  308.101776  308.101776   \n",
              "2022-06-03  308.194183  309.856720  293.863068  298.397888  298.397888   \n",
              "\n",
              "                Volume  \n",
              "Date                    \n",
              "2020-12-01   467818960  \n",
              "2020-12-02   371441750  \n",
              "2020-12-03   324897560  \n",
              "2020-12-04   362626786  \n",
              "2020-12-05   307895991  \n",
              "...                ...  \n",
              "2022-05-30  2064357375  \n",
              "2022-05-31  1711532960  \n",
              "2022-06-01  1763624947  \n",
              "2022-06-02  1228180850  \n",
              "2022-06-03  1115211127  \n",
              "\n",
              "[550 rows x 6 columns],                 Open      High       Low     Close  Adj Close      Volume\n",
              "Date                                                                     \n",
              "2020-12-01  0.171367  0.173851  0.146573  0.155983   0.155983  2071556994\n",
              "2020-12-02  0.155956  0.159662  0.151429  0.158557   0.158557  1367595805\n",
              "2020-12-03  0.158592  0.168009  0.155936  0.164212   0.164212  1287927035\n",
              "2020-12-04  0.164209  0.164506  0.146964  0.148241   0.148241  1200621758\n",
              "2020-12-05  0.148164  0.161383  0.146795  0.159668   0.159668  1036100099\n",
              "...              ...       ...       ...       ...        ...         ...\n",
              "2022-05-30  0.481134  0.574956  0.478083  0.570073   0.570073  1185015742\n",
              "2022-05-31  0.570000  0.682313  0.569636  0.625254   0.625254  3269050143\n",
              "2022-06-01  0.625417  0.629977  0.540809  0.552750   0.552750  1404107650\n",
              "2022-06-02  0.552636  0.595811  0.550444  0.587795   0.587795  1257661647\n",
              "2022-06-03  0.587836  0.603290  0.541486  0.559658   0.559658   910186327\n",
              "\n",
              "[550 rows x 6 columns]])"
            ]
          },
          "metadata": {},
          "execution_count": 11
        }
      ]
    },
    {
      "cell_type": "markdown",
      "source": [
        " **Ahora sacaremos los rendimientos de cada criptomoneda**"
      ],
      "metadata": {
        "id": "tQTAOR2_dH91"
      }
    },
    {
      "cell_type": "code",
      "source": [
        "df_BTC['Rendimientos']=(df_BTC['Close']-df_BTC['Open'])/df_BTC['Open']"
      ],
      "metadata": {
        "id": "MWXS-md-cAqV"
      },
      "execution_count": 59,
      "outputs": []
    },
    {
      "cell_type": "code",
      "source": [
        "df_BTC"
      ],
      "metadata": {
        "colab": {
          "base_uri": "https://localhost:8080/",
          "height": 455
        },
        "id": "3wgbtttlc4t1",
        "outputId": "aaddf759-871d-471a-f07b-18e2dfd8c6da"
      },
      "execution_count": 36,
      "outputs": [
        {
          "output_type": "execute_result",
          "data": {
            "text/plain": [
              "                    Open          High           Low         Close  \\\n",
              "Date                                                                 \n",
              "2020-12-01  19633.769531  19845.974609  18321.921875  18802.998047   \n",
              "2020-12-02  18801.744141  19308.330078  18347.718750  19201.091797   \n",
              "2020-12-03  19205.925781  19566.191406  18925.785156  19445.398438   \n",
              "2020-12-04  19446.966797  19511.404297  18697.193359  18699.765625   \n",
              "2020-12-05  18698.384766  19160.449219  18590.193359  19154.230469   \n",
              "...                  ...           ...           ...           ...   \n",
              "2022-05-30  29443.365234  31949.630859  29303.572266  31726.390625   \n",
              "2022-05-31  31723.865234  32249.863281  31286.154297  31792.310547   \n",
              "2022-06-01  31792.554688  31957.285156  29501.587891  29799.080078   \n",
              "2022-06-02  29794.890625  30604.734375  29652.705078  30467.488281   \n",
              "2022-06-03  30467.806641  30633.035156  29375.689453  29704.390625   \n",
              "\n",
              "               Adj Close       Volume  Rendimientos  \n",
              "Date                                                 \n",
              "2020-12-01  18802.998047  49633658712     -0.042313  \n",
              "2020-12-02  19201.091797  37387697139      0.021240  \n",
              "2020-12-03  19445.398438  31930317405      0.012469  \n",
              "2020-12-04  18699.765625  33872388058     -0.038423  \n",
              "2020-12-05  19154.230469  27242455064      0.024379  \n",
              "...                  ...          ...           ...  \n",
              "2022-05-30  31726.390625  39277993274      0.077540  \n",
              "2022-05-31  31792.310547  33538210634      0.002158  \n",
              "2022-06-01  29799.080078  41135817341     -0.062703  \n",
              "2022-06-02  30467.488281  29083562061      0.022574  \n",
              "2022-06-03  29704.390625  26175547452     -0.025056  \n",
              "\n",
              "[550 rows x 7 columns]"
            ],
            "text/html": [
              "\n",
              "  <div id=\"df-2e1d7c1a-9faa-4593-bc53-5daf8057f296\">\n",
              "    <div class=\"colab-df-container\">\n",
              "      <div>\n",
              "<style scoped>\n",
              "    .dataframe tbody tr th:only-of-type {\n",
              "        vertical-align: middle;\n",
              "    }\n",
              "\n",
              "    .dataframe tbody tr th {\n",
              "        vertical-align: top;\n",
              "    }\n",
              "\n",
              "    .dataframe thead th {\n",
              "        text-align: right;\n",
              "    }\n",
              "</style>\n",
              "<table border=\"1\" class=\"dataframe\">\n",
              "  <thead>\n",
              "    <tr style=\"text-align: right;\">\n",
              "      <th></th>\n",
              "      <th>Open</th>\n",
              "      <th>High</th>\n",
              "      <th>Low</th>\n",
              "      <th>Close</th>\n",
              "      <th>Adj Close</th>\n",
              "      <th>Volume</th>\n",
              "      <th>Rendimientos</th>\n",
              "    </tr>\n",
              "    <tr>\n",
              "      <th>Date</th>\n",
              "      <th></th>\n",
              "      <th></th>\n",
              "      <th></th>\n",
              "      <th></th>\n",
              "      <th></th>\n",
              "      <th></th>\n",
              "      <th></th>\n",
              "    </tr>\n",
              "  </thead>\n",
              "  <tbody>\n",
              "    <tr>\n",
              "      <th>2020-12-01</th>\n",
              "      <td>19633.769531</td>\n",
              "      <td>19845.974609</td>\n",
              "      <td>18321.921875</td>\n",
              "      <td>18802.998047</td>\n",
              "      <td>18802.998047</td>\n",
              "      <td>49633658712</td>\n",
              "      <td>-0.042313</td>\n",
              "    </tr>\n",
              "    <tr>\n",
              "      <th>2020-12-02</th>\n",
              "      <td>18801.744141</td>\n",
              "      <td>19308.330078</td>\n",
              "      <td>18347.718750</td>\n",
              "      <td>19201.091797</td>\n",
              "      <td>19201.091797</td>\n",
              "      <td>37387697139</td>\n",
              "      <td>0.021240</td>\n",
              "    </tr>\n",
              "    <tr>\n",
              "      <th>2020-12-03</th>\n",
              "      <td>19205.925781</td>\n",
              "      <td>19566.191406</td>\n",
              "      <td>18925.785156</td>\n",
              "      <td>19445.398438</td>\n",
              "      <td>19445.398438</td>\n",
              "      <td>31930317405</td>\n",
              "      <td>0.012469</td>\n",
              "    </tr>\n",
              "    <tr>\n",
              "      <th>2020-12-04</th>\n",
              "      <td>19446.966797</td>\n",
              "      <td>19511.404297</td>\n",
              "      <td>18697.193359</td>\n",
              "      <td>18699.765625</td>\n",
              "      <td>18699.765625</td>\n",
              "      <td>33872388058</td>\n",
              "      <td>-0.038423</td>\n",
              "    </tr>\n",
              "    <tr>\n",
              "      <th>2020-12-05</th>\n",
              "      <td>18698.384766</td>\n",
              "      <td>19160.449219</td>\n",
              "      <td>18590.193359</td>\n",
              "      <td>19154.230469</td>\n",
              "      <td>19154.230469</td>\n",
              "      <td>27242455064</td>\n",
              "      <td>0.024379</td>\n",
              "    </tr>\n",
              "    <tr>\n",
              "      <th>...</th>\n",
              "      <td>...</td>\n",
              "      <td>...</td>\n",
              "      <td>...</td>\n",
              "      <td>...</td>\n",
              "      <td>...</td>\n",
              "      <td>...</td>\n",
              "      <td>...</td>\n",
              "    </tr>\n",
              "    <tr>\n",
              "      <th>2022-05-30</th>\n",
              "      <td>29443.365234</td>\n",
              "      <td>31949.630859</td>\n",
              "      <td>29303.572266</td>\n",
              "      <td>31726.390625</td>\n",
              "      <td>31726.390625</td>\n",
              "      <td>39277993274</td>\n",
              "      <td>0.077540</td>\n",
              "    </tr>\n",
              "    <tr>\n",
              "      <th>2022-05-31</th>\n",
              "      <td>31723.865234</td>\n",
              "      <td>32249.863281</td>\n",
              "      <td>31286.154297</td>\n",
              "      <td>31792.310547</td>\n",
              "      <td>31792.310547</td>\n",
              "      <td>33538210634</td>\n",
              "      <td>0.002158</td>\n",
              "    </tr>\n",
              "    <tr>\n",
              "      <th>2022-06-01</th>\n",
              "      <td>31792.554688</td>\n",
              "      <td>31957.285156</td>\n",
              "      <td>29501.587891</td>\n",
              "      <td>29799.080078</td>\n",
              "      <td>29799.080078</td>\n",
              "      <td>41135817341</td>\n",
              "      <td>-0.062703</td>\n",
              "    </tr>\n",
              "    <tr>\n",
              "      <th>2022-06-02</th>\n",
              "      <td>29794.890625</td>\n",
              "      <td>30604.734375</td>\n",
              "      <td>29652.705078</td>\n",
              "      <td>30467.488281</td>\n",
              "      <td>30467.488281</td>\n",
              "      <td>29083562061</td>\n",
              "      <td>0.022574</td>\n",
              "    </tr>\n",
              "    <tr>\n",
              "      <th>2022-06-03</th>\n",
              "      <td>30467.806641</td>\n",
              "      <td>30633.035156</td>\n",
              "      <td>29375.689453</td>\n",
              "      <td>29704.390625</td>\n",
              "      <td>29704.390625</td>\n",
              "      <td>26175547452</td>\n",
              "      <td>-0.025056</td>\n",
              "    </tr>\n",
              "  </tbody>\n",
              "</table>\n",
              "<p>550 rows × 7 columns</p>\n",
              "</div>\n",
              "      <button class=\"colab-df-convert\" onclick=\"convertToInteractive('df-2e1d7c1a-9faa-4593-bc53-5daf8057f296')\"\n",
              "              title=\"Convert this dataframe to an interactive table.\"\n",
              "              style=\"display:none;\">\n",
              "        \n",
              "  <svg xmlns=\"http://www.w3.org/2000/svg\" height=\"24px\"viewBox=\"0 0 24 24\"\n",
              "       width=\"24px\">\n",
              "    <path d=\"M0 0h24v24H0V0z\" fill=\"none\"/>\n",
              "    <path d=\"M18.56 5.44l.94 2.06.94-2.06 2.06-.94-2.06-.94-.94-2.06-.94 2.06-2.06.94zm-11 1L8.5 8.5l.94-2.06 2.06-.94-2.06-.94L8.5 2.5l-.94 2.06-2.06.94zm10 10l.94 2.06.94-2.06 2.06-.94-2.06-.94-.94-2.06-.94 2.06-2.06.94z\"/><path d=\"M17.41 7.96l-1.37-1.37c-.4-.4-.92-.59-1.43-.59-.52 0-1.04.2-1.43.59L10.3 9.45l-7.72 7.72c-.78.78-.78 2.05 0 2.83L4 21.41c.39.39.9.59 1.41.59.51 0 1.02-.2 1.41-.59l7.78-7.78 2.81-2.81c.8-.78.8-2.07 0-2.86zM5.41 20L4 18.59l7.72-7.72 1.47 1.35L5.41 20z\"/>\n",
              "  </svg>\n",
              "      </button>\n",
              "      \n",
              "  <style>\n",
              "    .colab-df-container {\n",
              "      display:flex;\n",
              "      flex-wrap:wrap;\n",
              "      gap: 12px;\n",
              "    }\n",
              "\n",
              "    .colab-df-convert {\n",
              "      background-color: #E8F0FE;\n",
              "      border: none;\n",
              "      border-radius: 50%;\n",
              "      cursor: pointer;\n",
              "      display: none;\n",
              "      fill: #1967D2;\n",
              "      height: 32px;\n",
              "      padding: 0 0 0 0;\n",
              "      width: 32px;\n",
              "    }\n",
              "\n",
              "    .colab-df-convert:hover {\n",
              "      background-color: #E2EBFA;\n",
              "      box-shadow: 0px 1px 2px rgba(60, 64, 67, 0.3), 0px 1px 3px 1px rgba(60, 64, 67, 0.15);\n",
              "      fill: #174EA6;\n",
              "    }\n",
              "\n",
              "    [theme=dark] .colab-df-convert {\n",
              "      background-color: #3B4455;\n",
              "      fill: #D2E3FC;\n",
              "    }\n",
              "\n",
              "    [theme=dark] .colab-df-convert:hover {\n",
              "      background-color: #434B5C;\n",
              "      box-shadow: 0px 1px 3px 1px rgba(0, 0, 0, 0.15);\n",
              "      filter: drop-shadow(0px 1px 2px rgba(0, 0, 0, 0.3));\n",
              "      fill: #FFFFFF;\n",
              "    }\n",
              "  </style>\n",
              "\n",
              "      <script>\n",
              "        const buttonEl =\n",
              "          document.querySelector('#df-2e1d7c1a-9faa-4593-bc53-5daf8057f296 button.colab-df-convert');\n",
              "        buttonEl.style.display =\n",
              "          google.colab.kernel.accessAllowed ? 'block' : 'none';\n",
              "\n",
              "        async function convertToInteractive(key) {\n",
              "          const element = document.querySelector('#df-2e1d7c1a-9faa-4593-bc53-5daf8057f296');\n",
              "          const dataTable =\n",
              "            await google.colab.kernel.invokeFunction('convertToInteractive',\n",
              "                                                     [key], {});\n",
              "          if (!dataTable) return;\n",
              "\n",
              "          const docLinkHtml = 'Like what you see? Visit the ' +\n",
              "            '<a target=\"_blank\" href=https://colab.research.google.com/notebooks/data_table.ipynb>data table notebook</a>'\n",
              "            + ' to learn more about interactive tables.';\n",
              "          element.innerHTML = '';\n",
              "          dataTable['output_type'] = 'display_data';\n",
              "          await google.colab.output.renderOutput(dataTable, element);\n",
              "          const docLink = document.createElement('div');\n",
              "          docLink.innerHTML = docLinkHtml;\n",
              "          element.appendChild(docLink);\n",
              "        }\n",
              "      </script>\n",
              "    </div>\n",
              "  </div>\n",
              "  "
            ]
          },
          "metadata": {},
          "execution_count": 36
        }
      ]
    },
    {
      "cell_type": "code",
      "source": [
        "df_BTC['Rendimientos'].plot()"
      ],
      "metadata": {
        "colab": {
          "base_uri": "https://localhost:8080/",
          "height": 309
        },
        "id": "_mfrE1zTc4qQ",
        "outputId": "2521be81-fa6d-4f7a-9b88-97f7399f836b"
      },
      "execution_count": 37,
      "outputs": [
        {
          "output_type": "execute_result",
          "data": {
            "text/plain": [
              "<matplotlib.axes._subplots.AxesSubplot at 0x7f86d3c25dd0>"
            ]
          },
          "metadata": {},
          "execution_count": 37
        },
        {
          "output_type": "display_data",
          "data": {
            "text/plain": [
              "<Figure size 432x288 with 1 Axes>"
            ],
            "image/png": "[encoded data removed]"
          },
          "metadata": {
            "needs_background": "light"
          }
        }
      ]
    },
    {
      "cell_type": "code",
      "source": [
        "! pip install plotly"
      ],
      "metadata": {
        "colab": {
          "base_uri": "https://localhost:8080/"
        },
        "id": "JfVh4YAlc4WL",
        "outputId": "6f0c1086-5df1-4cdd-fb82-8ce13e5a53f6"
      },
      "execution_count": 30,
      "outputs": [
        {
          "output_type": "stream",
          "name": "stdout",
          "text": [
            "Looking in indexes: https://pypi.org/simple, https://us-python.pkg.dev/colab-wheels/public/simple/\n",
            "Requirement already satisfied: plotly in /usr/local/lib/python3.7/dist-packages (5.5.0)\n",
            "Requirement already satisfied: tenacity>=6.2.0 in /usr/local/lib/python3.7/dist-packages (from plotly) (8.0.1)\n",
            "Requirement already satisfied: six in /usr/local/lib/python3.7/dist-packages (from plotly) (1.15.0)\n"
          ]
        }
      ]
    },
    {
      "cell_type": "code",
      "source": [
        "import plotly.graph_objects as go\n",
        "import cufflinks as cf\n",
        "from IPython.display import display,HTML\n",
        "\n",
        "cf.set_config_file(sharing='public',theme='ggplot',offline=True)"
      ],
      "metadata": {
        "colab": {
          "base_uri": "https://localhost:8080/",
          "height": 17
        },
        "id": "6bkrmClfc4SA",
        "outputId": "073aab56-ff6e-4c6c-a095-94673f91b64e"
      },
      "execution_count": 31,
      "outputs": [
        {
          "output_type": "display_data",
          "data": {
            "text/html": [
              "        <script type=\"text/javascript\">\n",
              "        window.PlotlyConfig = {MathJaxConfig: 'local'};\n",
              "        if (window.MathJax) {MathJax.Hub.Config({SVG: {font: \"STIX-Web\"}});}\n",
              "        if (typeof require !== 'undefined') {\n",
              "        require.undef(\"plotly\");\n",
              "        requirejs.config({\n",
              "            paths: {\n",
              "                'plotly': ['https://cdn.plot.ly/plotly-2.8.3.min']\n",
              "            }\n",
              "        });\n",
              "        require(['plotly'], function(Plotly) {\n",
              "            window._Plotly = Plotly;\n",
              "        });\n",
              "        }\n",
              "        </script>\n",
              "        "
            ]
          },
          "metadata": {}
        }
      ]
    },
    {
      "cell_type": "code",
      "source": [
        "for ticker in criptos_mone:\n",
        "  criptos_info[ticker]['Rendimientos']=(criptos_info[ticker]['Close']-criptos_info[ticker]['Open'])/criptos_info[ticker]['Open']\n",
        "  print(f'{ticker} - ok')"
      ],
      "metadata": {
        "colab": {
          "base_uri": "https://localhost:8080/"
        },
        "id": "JI_AoMQHfIMU",
        "outputId": "ff9351bd-b1b2-4d6f-9e5c-3b8d0a183c36"
      },
      "execution_count": 16,
      "outputs": [
        {
          "output_type": "stream",
          "name": "stdout",
          "text": [
            "BTC-USD - ok\n",
            "ETH-USD - ok\n",
            "DOGE-USD - ok\n",
            "BNB-USD - ok\n",
            "ADA-USD - ok\n"
          ]
        }
      ]
    },
    {
      "cell_type": "code",
      "source": [
        "criptos_info"
      ],
      "metadata": {
        "colab": {
          "base_uri": "https://localhost:8080/"
        },
        "id": "2tHlF3wvfIFH",
        "outputId": "22baf7c5-149f-49a2-ee6c-7c9eeb9ce5ca"
      },
      "execution_count": 17,
      "outputs": [
        {
          "output_type": "execute_result",
          "data": {
            "text/plain": [
              "{'ADA-USD':                 Open      High       Low     Close  Adj Close      Volume  \\\n",
              " Date                                                                        \n",
              " 2020-12-01  0.171367  0.173851  0.146573  0.155983   0.155983  2071556994   \n",
              " 2020-12-02  0.155956  0.159662  0.151429  0.158557   0.158557  1367595805   \n",
              " 2020-12-03  0.158592  0.168009  0.155936  0.164212   0.164212  1287927035   \n",
              " 2020-12-04  0.164209  0.164506  0.146964  0.148241   0.148241  1200621758   \n",
              " 2020-12-05  0.148164  0.161383  0.146795  0.159668   0.159668  1036100099   \n",
              " ...              ...       ...       ...       ...        ...         ...   \n",
              " 2022-05-30  0.481134  0.574956  0.478083  0.570073   0.570073  1185015742   \n",
              " 2022-05-31  0.570000  0.682313  0.569636  0.625254   0.625254  3269050143   \n",
              " 2022-06-01  0.625417  0.629977  0.540809  0.552750   0.552750  1404107650   \n",
              " 2022-06-02  0.552636  0.595811  0.550444  0.587795   0.587795  1257661647   \n",
              " 2022-06-03  0.587836  0.603290  0.541486  0.559658   0.559658   910186327   \n",
              " \n",
              "             Rendimientos  \n",
              " Date                      \n",
              " 2020-12-01     -0.089772  \n",
              " 2020-12-02      0.016678  \n",
              " 2020-12-03      0.035437  \n",
              " 2020-12-04     -0.097242  \n",
              " 2020-12-05      0.077644  \n",
              " ...                  ...  \n",
              " 2022-05-30      0.184853  \n",
              " 2022-05-31      0.096937  \n",
              " 2022-06-01     -0.116190  \n",
              " 2022-06-02      0.063621  \n",
              " 2022-06-03     -0.047935  \n",
              " \n",
              " [550 rows x 7 columns],\n",
              " 'BNB-USD':                   Open        High         Low       Close   Adj Close  \\\n",
              " Date                                                                     \n",
              " 2020-12-01   31.411509   31.871908   29.484135   30.108303   30.108303   \n",
              " 2020-12-02   30.147505   30.910141   29.748901   30.297361   30.297361   \n",
              " 2020-12-03   30.303986   30.769117   29.978310   30.704430   30.704430   \n",
              " 2020-12-04   30.716002   31.116619   28.925531   29.072208   29.072208   \n",
              " 2020-12-05   29.075138   30.002951   28.757483   29.729488   29.729488   \n",
              " ...                ...         ...         ...         ...         ...   \n",
              " 2022-05-30  305.944092  323.257782  304.336578  321.752899  321.752899   \n",
              " 2022-05-31  321.720306  323.701355  314.275513  320.485107  320.485107   \n",
              " 2022-06-01  320.472015  323.885071  297.968597  300.504059  300.504059   \n",
              " 2022-06-02  300.466461  309.040894  298.671204  308.101776  308.101776   \n",
              " 2022-06-03  308.194183  309.856720  293.863068  298.397888  298.397888   \n",
              " \n",
              "                 Volume  Rendimientos  \n",
              " Date                                  \n",
              " 2020-12-01   467818960     -0.041488  \n",
              " 2020-12-02   371441750      0.004971  \n",
              " 2020-12-03   324897560      0.013214  \n",
              " 2020-12-04   362626786     -0.053516  \n",
              " 2020-12-05   307895991      0.022505  \n",
              " ...                ...           ...  \n",
              " 2022-05-30  2064357375      0.051672  \n",
              " 2022-05-31  1711532960     -0.003839  \n",
              " 2022-06-01  1763624947     -0.062308  \n",
              " 2022-06-02  1228180850      0.025412  \n",
              " 2022-06-03  1115211127     -0.031786  \n",
              " \n",
              " [550 rows x 7 columns],\n",
              " 'BTC-USD':                     Open          High           Low         Close  \\\n",
              " Date                                                                 \n",
              " 2020-12-01  19633.769531  19845.974609  18321.921875  18802.998047   \n",
              " 2020-12-02  18801.744141  19308.330078  18347.718750  19201.091797   \n",
              " 2020-12-03  19205.925781  19566.191406  18925.785156  19445.398438   \n",
              " 2020-12-04  19446.966797  19511.404297  18697.193359  18699.765625   \n",
              " 2020-12-05  18698.384766  19160.449219  18590.193359  19154.230469   \n",
              " ...                  ...           ...           ...           ...   \n",
              " 2022-05-30  29443.365234  31949.630859  29303.572266  31726.390625   \n",
              " 2022-05-31  31723.865234  32249.863281  31286.154297  31792.310547   \n",
              " 2022-06-01  31792.554688  31957.285156  29501.587891  29799.080078   \n",
              " 2022-06-02  29794.890625  30604.734375  29652.705078  30467.488281   \n",
              " 2022-06-03  30467.806641  30633.035156  29375.689453  29704.390625   \n",
              " \n",
              "                Adj Close       Volume  Rendimientos  \n",
              " Date                                                 \n",
              " 2020-12-01  18802.998047  49633658712     -0.042313  \n",
              " 2020-12-02  19201.091797  37387697139      0.021240  \n",
              " 2020-12-03  19445.398438  31930317405      0.012469  \n",
              " 2020-12-04  18699.765625  33872388058     -0.038423  \n",
              " 2020-12-05  19154.230469  27242455064      0.024379  \n",
              " ...                  ...          ...           ...  \n",
              " 2022-05-30  31726.390625  39277993274      0.077540  \n",
              " 2022-05-31  31792.310547  33538210634      0.002158  \n",
              " 2022-06-01  29799.080078  41135817341     -0.062703  \n",
              " 2022-06-02  30467.488281  29083562061      0.022574  \n",
              " 2022-06-03  29704.390625  26175547452     -0.025056  \n",
              " \n",
              " [550 rows x 7 columns],\n",
              " 'DOGE-USD':                 Open      High       Low     Close  Adj Close     Volume  \\\n",
              " Date                                                                       \n",
              " 2020-12-01  0.003551  0.003572  0.003269  0.003335   0.003335   80163603   \n",
              " 2020-12-02  0.003335  0.003436  0.003293  0.003374   0.003374   58705661   \n",
              " 2020-12-03  0.003375  0.003500  0.003352  0.003428   0.003428   47907032   \n",
              " 2020-12-04  0.003429  0.003447  0.003285  0.003298   0.003298   45062222   \n",
              " 2020-12-05  0.003297  0.003414  0.003268  0.003397   0.003397   43386583   \n",
              " ...              ...       ...       ...       ...        ...        ...   \n",
              " 2022-05-30  0.082684  0.088275  0.082269  0.087871   0.087871  690696756   \n",
              " 2022-05-31  0.087865  0.088230  0.083612  0.085865   0.085865  672444588   \n",
              " 2022-06-01  0.085855  0.088647  0.079807  0.081056   0.081056  830748610   \n",
              " 2022-06-02  0.081052  0.083007  0.080417  0.082772   0.082772  434510607   \n",
              " 2022-06-03  0.082777  0.082857  0.079756  0.080442   0.080442  403339248   \n",
              " \n",
              "             Rendimientos  \n",
              " Date                      \n",
              " 2020-12-01     -0.060828  \n",
              " 2020-12-02      0.011694  \n",
              " 2020-12-03      0.015704  \n",
              " 2020-12-04     -0.038204  \n",
              " 2020-12-05      0.030331  \n",
              " ...                  ...  \n",
              " 2022-05-30      0.062733  \n",
              " 2022-05-31     -0.022762  \n",
              " 2022-06-01     -0.055897  \n",
              " 2022-06-02      0.021221  \n",
              " 2022-06-03     -0.028208  \n",
              " \n",
              " [550 rows x 7 columns],\n",
              " 'ETH-USD':                    Open         High          Low        Close    Adj Close  \\\n",
              " Date                                                                          \n",
              " 2020-12-01   615.070312   635.160583   571.753967   587.324158   587.324158   \n",
              " 2020-12-02   587.261597   604.022461   578.741028   598.352356   598.352356   \n",
              " 2020-12-03   598.459229   622.452698   588.346375   616.708740   616.708740   \n",
              " 2020-12-04   616.722778   618.983154   569.283508   569.354187   569.354187   \n",
              " 2020-12-05   569.347656   596.595459   563.106628   596.595459   596.595459   \n",
              " ...                 ...          ...          ...          ...          ...   \n",
              " 2022-05-30  1811.885986  2005.210815  1804.456055  1996.441284  1996.441284   \n",
              " 2022-05-31  1996.408081  2005.490967  1932.352051  1942.328003  1942.328003   \n",
              " 2022-06-01  1942.050659  1965.166626  1776.053223  1823.569336  1823.569336   \n",
              " 2022-06-02  1822.412109  1845.313965  1789.664185  1834.150513  1834.150513   \n",
              " 2022-06-03  1834.135010  1840.058838  1746.509766  1775.078613  1775.078613   \n",
              " \n",
              "                  Volume  Rendimientos  \n",
              " Date                                   \n",
              " 2020-12-01  27178964465     -0.045111  \n",
              " 2020-12-02  16883292129      0.018886  \n",
              " 2020-12-03  16146190946      0.030494  \n",
              " 2020-12-04  16337589997     -0.076807  \n",
              " 2020-12-05  13498010566      0.047858  \n",
              " ...                 ...           ...  \n",
              " 2022-05-30  19580808705      0.101858  \n",
              " 2022-05-31  18363115560     -0.027089  \n",
              " 2022-06-01  21037797760     -0.061008  \n",
              " 2022-06-02  17065041354      0.006441  \n",
              " 2022-06-03  14878001811     -0.032199  \n",
              " \n",
              " [550 rows x 7 columns]}"
            ]
          },
          "metadata": {},
          "execution_count": 17
        }
      ]
    },
    {
      "cell_type": "code",
      "source": [
        "criptos_info['DOGE-USD']"
      ],
      "metadata": {
        "colab": {
          "base_uri": "https://localhost:8080/",
          "height": 455
        },
        "id": "Eaqc_xPcfH7b",
        "outputId": "90bca6cc-cfd0-4c52-b461-09a3d0259e99"
      },
      "execution_count": 60,
      "outputs": [
        {
          "output_type": "execute_result",
          "data": {
            "text/plain": [
              "                Open      High       Low     Close  Adj Close     Volume  \\\n",
              "Date                                                                       \n",
              "2020-12-01  0.003551  0.003572  0.003269  0.003335   0.003335   80163603   \n",
              "2020-12-02  0.003335  0.003436  0.003293  0.003374   0.003374   58705661   \n",
              "2020-12-03  0.003375  0.003500  0.003352  0.003428   0.003428   47907032   \n",
              "2020-12-04  0.003429  0.003447  0.003285  0.003298   0.003298   45062222   \n",
              "2020-12-05  0.003297  0.003414  0.003268  0.003397   0.003397   43386583   \n",
              "...              ...       ...       ...       ...        ...        ...   \n",
              "2022-05-30  0.082684  0.088275  0.082269  0.087871   0.087871  690696756   \n",
              "2022-05-31  0.087865  0.088230  0.083612  0.085865   0.085865  672444588   \n",
              "2022-06-01  0.085855  0.088647  0.079807  0.081056   0.081056  830748610   \n",
              "2022-06-02  0.081052  0.083007  0.080417  0.082772   0.082772  434510607   \n",
              "2022-06-03  0.082777  0.082857  0.079756  0.080442   0.080442  403339248   \n",
              "\n",
              "            Rendimientos  \n",
              "Date                      \n",
              "2020-12-01     -0.060828  \n",
              "2020-12-02      0.011694  \n",
              "2020-12-03      0.015704  \n",
              "2020-12-04     -0.038204  \n",
              "2020-12-05      0.030331  \n",
              "...                  ...  \n",
              "2022-05-30      0.062733  \n",
              "2022-05-31     -0.022762  \n",
              "2022-06-01     -0.055897  \n",
              "2022-06-02      0.021221  \n",
              "2022-06-03     -0.028208  \n",
              "\n",
              "[550 rows x 7 columns]"
            ],
            "text/html": [
              "\n",
              "  <div id=\"df-9ea4417f-fd5d-4f8f-9084-ef894f639ddd\">\n",
              "    <div class=\"colab-df-container\">\n",
              "      <div>\n",
              "<style scoped>\n",
              "    .dataframe tbody tr th:only-of-type {\n",
              "        vertical-align: middle;\n",
              "    }\n",
              "\n",
              "    .dataframe tbody tr th {\n",
              "        vertical-align: top;\n",
              "    }\n",
              "\n",
              "    .dataframe thead th {\n",
              "        text-align: right;\n",
              "    }\n",
              "</style>\n",
              "<table border=\"1\" class=\"dataframe\">\n",
              "  <thead>\n",
              "    <tr style=\"text-align: right;\">\n",
              "      <th></th>\n",
              "      <th>Open</th>\n",
              "      <th>High</th>\n",
              "      <th>Low</th>\n",
              "      <th>Close</th>\n",
              "      <th>Adj Close</th>\n",
              "      <th>Volume</th>\n",
              "      <th>Rendimientos</th>\n",
              "    </tr>\n",
              "    <tr>\n",
              "      <th>Date</th>\n",
              "      <th></th>\n",
              "      <th></th>\n",
              "      <th></th>\n",
              "      <th></th>\n",
              "      <th></th>\n",
              "      <th></th>\n",
              "      <th></th>\n",
              "    </tr>\n",
              "  </thead>\n",
              "  <tbody>\n",
              "    <tr>\n",
              "      <th>2020-12-01</th>\n",
              "      <td>0.003551</td>\n",
              "      <td>0.003572</td>\n",
              "      <td>0.003269</td>\n",
              "      <td>0.003335</td>\n",
              "      <td>0.003335</td>\n",
              "      <td>80163603</td>\n",
              "      <td>-0.060828</td>\n",
              "    </tr>\n",
              "    <tr>\n",
              "      <th>2020-12-02</th>\n",
              "      <td>0.003335</td>\n",
              "      <td>0.003436</td>\n",
              "      <td>0.003293</td>\n",
              "      <td>0.003374</td>\n",
              "      <td>0.003374</td>\n",
              "      <td>58705661</td>\n",
              "      <td>0.011694</td>\n",
              "    </tr>\n",
              "    <tr>\n",
              "      <th>2020-12-03</th>\n",
              "      <td>0.003375</td>\n",
              "      <td>0.003500</td>\n",
              "      <td>0.003352</td>\n",
              "      <td>0.003428</td>\n",
              "      <td>0.003428</td>\n",
              "      <td>47907032</td>\n",
              "      <td>0.015704</td>\n",
              "    </tr>\n",
              "    <tr>\n",
              "      <th>2020-12-04</th>\n",
              "      <td>0.003429</td>\n",
              "      <td>0.003447</td>\n",
              "      <td>0.003285</td>\n",
              "      <td>0.003298</td>\n",
              "      <td>0.003298</td>\n",
              "      <td>45062222</td>\n",
              "      <td>-0.038204</td>\n",
              "    </tr>\n",
              "    <tr>\n",
              "      <th>2020-12-05</th>\n",
              "      <td>0.003297</td>\n",
              "      <td>0.003414</td>\n",
              "      <td>0.003268</td>\n",
              "      <td>0.003397</td>\n",
              "      <td>0.003397</td>\n",
              "      <td>43386583</td>\n",
              "      <td>0.030331</td>\n",
              "    </tr>\n",
              "    <tr>\n",
              "      <th>...</th>\n",
              "      <td>...</td>\n",
              "      <td>...</td>\n",
              "      <td>...</td>\n",
              "      <td>...</td>\n",
              "      <td>...</td>\n",
              "      <td>...</td>\n",
              "      <td>...</td>\n",
              "    </tr>\n",
              "    <tr>\n",
              "      <th>2022-05-30</th>\n",
              "      <td>0.082684</td>\n",
              "      <td>0.088275</td>\n",
              "      <td>0.082269</td>\n",
              "      <td>0.087871</td>\n",
              "      <td>0.087871</td>\n",
              "      <td>690696756</td>\n",
              "      <td>0.062733</td>\n",
              "    </tr>\n",
              "    <tr>\n",
              "      <th>2022-05-31</th>\n",
              "      <td>0.087865</td>\n",
              "      <td>0.088230</td>\n",
              "      <td>0.083612</td>\n",
              "      <td>0.085865</td>\n",
              "      <td>0.085865</td>\n",
              "      <td>672444588</td>\n",
              "      <td>-0.022762</td>\n",
              "    </tr>\n",
              "    <tr>\n",
              "      <th>2022-06-01</th>\n",
              "      <td>0.085855</td>\n",
              "      <td>0.088647</td>\n",
              "      <td>0.079807</td>\n",
              "      <td>0.081056</td>\n",
              "      <td>0.081056</td>\n",
              "      <td>830748610</td>\n",
              "      <td>-0.055897</td>\n",
              "    </tr>\n",
              "    <tr>\n",
              "      <th>2022-06-02</th>\n",
              "      <td>0.081052</td>\n",
              "      <td>0.083007</td>\n",
              "      <td>0.080417</td>\n",
              "      <td>0.082772</td>\n",
              "      <td>0.082772</td>\n",
              "      <td>434510607</td>\n",
              "      <td>0.021221</td>\n",
              "    </tr>\n",
              "    <tr>\n",
              "      <th>2022-06-03</th>\n",
              "      <td>0.082777</td>\n",
              "      <td>0.082857</td>\n",
              "      <td>0.079756</td>\n",
              "      <td>0.080442</td>\n",
              "      <td>0.080442</td>\n",
              "      <td>403339248</td>\n",
              "      <td>-0.028208</td>\n",
              "    </tr>\n",
              "  </tbody>\n",
              "</table>\n",
              "<p>550 rows × 7 columns</p>\n",
              "</div>\n",
              "      <button class=\"colab-df-convert\" onclick=\"convertToInteractive('df-9ea4417f-fd5d-4f8f-9084-ef894f639ddd')\"\n",
              "              title=\"Convert this dataframe to an interactive table.\"\n",
              "              style=\"display:none;\">\n",
              "        \n",
              "  <svg xmlns=\"http://www.w3.org/2000/svg\" height=\"24px\"viewBox=\"0 0 24 24\"\n",
              "       width=\"24px\">\n",
              "    <path d=\"M0 0h24v24H0V0z\" fill=\"none\"/>\n",
              "    <path d=\"M18.56 5.44l.94 2.06.94-2.06 2.06-.94-2.06-.94-.94-2.06-.94 2.06-2.06.94zm-11 1L8.5 8.5l.94-2.06 2.06-.94-2.06-.94L8.5 2.5l-.94 2.06-2.06.94zm10 10l.94 2.06.94-2.06 2.06-.94-2.06-.94-.94-2.06-.94 2.06-2.06.94z\"/><path d=\"M17.41 7.96l-1.37-1.37c-.4-.4-.92-.59-1.43-.59-.52 0-1.04.2-1.43.59L10.3 9.45l-7.72 7.72c-.78.78-.78 2.05 0 2.83L4 21.41c.39.39.9.59 1.41.59.51 0 1.02-.2 1.41-.59l7.78-7.78 2.81-2.81c.8-.78.8-2.07 0-2.86zM5.41 20L4 18.59l7.72-7.72 1.47 1.35L5.41 20z\"/>\n",
              "  </svg>\n",
              "      </button>\n",
              "      \n",
              "  <style>\n",
              "    .colab-df-container {\n",
              "      display:flex;\n",
              "      flex-wrap:wrap;\n",
              "      gap: 12px;\n",
              "    }\n",
              "\n",
              "    .colab-df-convert {\n",
              "      background-color: #E8F0FE;\n",
              "      border: none;\n",
              "      border-radius: 50%;\n",
              "      cursor: pointer;\n",
              "      display: none;\n",
              "      fill: #1967D2;\n",
              "      height: 32px;\n",
              "      padding: 0 0 0 0;\n",
              "      width: 32px;\n",
              "    }\n",
              "\n",
              "    .colab-df-convert:hover {\n",
              "      background-color: #E2EBFA;\n",
              "      box-shadow: 0px 1px 2px rgba(60, 64, 67, 0.3), 0px 1px 3px 1px rgba(60, 64, 67, 0.15);\n",
              "      fill: #174EA6;\n",
              "    }\n",
              "\n",
              "    [theme=dark] .colab-df-convert {\n",
              "      background-color: #3B4455;\n",
              "      fill: #D2E3FC;\n",
              "    }\n",
              "\n",
              "    [theme=dark] .colab-df-convert:hover {\n",
              "      background-color: #434B5C;\n",
              "      box-shadow: 0px 1px 3px 1px rgba(0, 0, 0, 0.15);\n",
              "      filter: drop-shadow(0px 1px 2px rgba(0, 0, 0, 0.3));\n",
              "      fill: #FFFFFF;\n",
              "    }\n",
              "  </style>\n",
              "\n",
              "      <script>\n",
              "        const buttonEl =\n",
              "          document.querySelector('#df-9ea4417f-fd5d-4f8f-9084-ef894f639ddd button.colab-df-convert');\n",
              "        buttonEl.style.display =\n",
              "          google.colab.kernel.accessAllowed ? 'block' : 'none';\n",
              "\n",
              "        async function convertToInteractive(key) {\n",
              "          const element = document.querySelector('#df-9ea4417f-fd5d-4f8f-9084-ef894f639ddd');\n",
              "          const dataTable =\n",
              "            await google.colab.kernel.invokeFunction('convertToInteractive',\n",
              "                                                     [key], {});\n",
              "          if (!dataTable) return;\n",
              "\n",
              "          const docLinkHtml = 'Like what you see? Visit the ' +\n",
              "            '<a target=\"_blank\" href=https://colab.research.google.com/notebooks/data_table.ipynb>data table notebook</a>'\n",
              "            + ' to learn more about interactive tables.';\n",
              "          element.innerHTML = '';\n",
              "          dataTable['output_type'] = 'display_data';\n",
              "          await google.colab.output.renderOutput(dataTable, element);\n",
              "          const docLink = document.createElement('div');\n",
              "          docLink.innerHTML = docLinkHtml;\n",
              "          element.appendChild(docLink);\n",
              "        }\n",
              "      </script>\n",
              "    </div>\n",
              "  </div>\n",
              "  "
            ]
          },
          "metadata": {},
          "execution_count": 60
        }
      ]
    },
    {
      "cell_type": "code",
      "source": [
        "for ticker in criptos_mone:\n",
        "  plt.plot(criptos_info[ticker].index,criptos_info[ticker]['Rendimientos'])\n",
        "plt.Figure(figsize=(4000,20000))\n"
      ],
      "metadata": {
        "colab": {
          "base_uri": "https://localhost:8080/",
          "height": 282
        },
        "id": "IVnbvPj6fHn6",
        "outputId": "6bc6e073-1f1f-4235-c9ab-f4fdb6d0d704"
      },
      "execution_count": 64,
      "outputs": [
        {
          "output_type": "execute_result",
          "data": {
            "text/plain": [
              "<Figure size 288000x1.44e+06 with 0 Axes>"
            ]
          },
          "metadata": {},
          "execution_count": 64
        },
        {
          "output_type": "display_data",
          "data": {
            "text/plain": [
              "<Figure size 432x288 with 1 Axes>"
            ],
            "image/png": "[encoded data removed]"
          },
          "metadata": {
            "needs_background": "light"
          }
        }
      ]
    },
    {
      "cell_type": "code",
      "source": [
        "df_BTC.keys()"
      ],
      "metadata": {
        "colab": {
          "base_uri": "https://localhost:8080/"
        },
        "id": "NgDeI3ZMqkY7",
        "outputId": "2afe77ef-eda0-4a30-fe46-24ce88f3bee9"
      },
      "execution_count": 62,
      "outputs": [
        {
          "output_type": "execute_result",
          "data": {
            "text/plain": [
              "Index(['Open', 'High', 'Low', 'Close', 'Adj Close', 'Volume', 'Rendimientos'], dtype='object')"
            ]
          },
          "metadata": {},
          "execution_count": 62
        }
      ]
    },
    {
      "cell_type": "code",
      "source": [
        "df_BTC"
      ],
      "metadata": {
        "colab": {
          "base_uri": "https://localhost:8080/",
          "height": 455
        },
        "id": "Xgz-2fSbtK0h",
        "outputId": "fd71ec26-2903-41d2-83b5-3d81995bf1a4"
      },
      "execution_count": 63,
      "outputs": [
        {
          "output_type": "execute_result",
          "data": {
            "text/plain": [
              "                Open      High       Low     Close  Adj Close      Volume  \\\n",
              "Date                                                                        \n",
              "2020-12-01  0.171367  0.173851  0.146573  0.155983   0.155983  2071556994   \n",
              "2020-12-02  0.155956  0.159662  0.151429  0.158557   0.158557  1367595805   \n",
              "2020-12-03  0.158592  0.168009  0.155936  0.164212   0.164212  1287927035   \n",
              "2020-12-04  0.164209  0.164506  0.146964  0.148241   0.148241  1200621758   \n",
              "2020-12-05  0.148164  0.161383  0.146795  0.159668   0.159668  1036100099   \n",
              "...              ...       ...       ...       ...        ...         ...   \n",
              "2022-05-30  0.481134  0.574956  0.478083  0.570073   0.570073  1185015742   \n",
              "2022-05-31  0.570000  0.682313  0.569636  0.625254   0.625254  3269050143   \n",
              "2022-06-01  0.625417  0.629977  0.540809  0.552750   0.552750  1404107650   \n",
              "2022-06-02  0.552636  0.595811  0.550444  0.587795   0.587795  1257661647   \n",
              "2022-06-03  0.587836  0.603290  0.541486  0.559658   0.559658   910186327   \n",
              "\n",
              "            Rendimientos  \n",
              "Date                      \n",
              "2020-12-01     -0.089772  \n",
              "2020-12-02      0.016678  \n",
              "2020-12-03      0.035437  \n",
              "2020-12-04     -0.097242  \n",
              "2020-12-05      0.077644  \n",
              "...                  ...  \n",
              "2022-05-30      0.184853  \n",
              "2022-05-31      0.096937  \n",
              "2022-06-01     -0.116190  \n",
              "2022-06-02      0.063621  \n",
              "2022-06-03     -0.047935  \n",
              "\n",
              "[550 rows x 7 columns]"
            ],
            "text/html": [
              "\n",
              "  <div id=\"df-1f00baac-6911-46b6-a02c-633996bc3160\">\n",
              "    <div class=\"colab-df-container\">\n",
              "      <div>\n",
              "<style scoped>\n",
              "    .dataframe tbody tr th:only-of-type {\n",
              "        vertical-align: middle;\n",
              "    }\n",
              "\n",
              "    .dataframe tbody tr th {\n",
              "        vertical-align: top;\n",
              "    }\n",
              "\n",
              "    .dataframe thead th {\n",
              "        text-align: right;\n",
              "    }\n",
              "</style>\n",
              "<table border=\"1\" class=\"dataframe\">\n",
              "  <thead>\n",
              "    <tr style=\"text-align: right;\">\n",
              "      <th></th>\n",
              "      <th>Open</th>\n",
              "      <th>High</th>\n",
              "      <th>Low</th>\n",
              "      <th>Close</th>\n",
              "      <th>Adj Close</th>\n",
              "      <th>Volume</th>\n",
              "      <th>Rendimientos</th>\n",
              "    </tr>\n",
              "    <tr>\n",
              "      <th>Date</th>\n",
              "      <th></th>\n",
              "      <th></th>\n",
              "      <th></th>\n",
              "      <th></th>\n",
              "      <th></th>\n",
              "      <th></th>\n",
              "      <th></th>\n",
              "    </tr>\n",
              "  </thead>\n",
              "  <tbody>\n",
              "    <tr>\n",
              "      <th>2020-12-01</th>\n",
              "      <td>0.171367</td>\n",
              "      <td>0.173851</td>\n",
              "      <td>0.146573</td>\n",
              "      <td>0.155983</td>\n",
              "      <td>0.155983</td>\n",
              "      <td>2071556994</td>\n",
              "      <td>-0.089772</td>\n",
              "    </tr>\n",
              "    <tr>\n",
              "      <th>2020-12-02</th>\n",
              "      <td>0.155956</td>\n",
              "      <td>0.159662</td>\n",
              "      <td>0.151429</td>\n",
              "      <td>0.158557</td>\n",
              "      <td>0.158557</td>\n",
              "      <td>1367595805</td>\n",
              "      <td>0.016678</td>\n",
              "    </tr>\n",
              "    <tr>\n",
              "      <th>2020-12-03</th>\n",
              "      <td>0.158592</td>\n",
              "      <td>0.168009</td>\n",
              "      <td>0.155936</td>\n",
              "      <td>0.164212</td>\n",
              "      <td>0.164212</td>\n",
              "      <td>1287927035</td>\n",
              "      <td>0.035437</td>\n",
              "    </tr>\n",
              "    <tr>\n",
              "      <th>2020-12-04</th>\n",
              "      <td>0.164209</td>\n",
              "      <td>0.164506</td>\n",
              "      <td>0.146964</td>\n",
              "      <td>0.148241</td>\n",
              "      <td>0.148241</td>\n",
              "      <td>1200621758</td>\n",
              "      <td>-0.097242</td>\n",
              "    </tr>\n",
              "    <tr>\n",
              "      <th>2020-12-05</th>\n",
              "      <td>0.148164</td>\n",
              "      <td>0.161383</td>\n",
              "      <td>0.146795</td>\n",
              "      <td>0.159668</td>\n",
              "      <td>0.159668</td>\n",
              "      <td>1036100099</td>\n",
              "      <td>0.077644</td>\n",
              "    </tr>\n",
              "    <tr>\n",
              "      <th>...</th>\n",
              "      <td>...</td>\n",
              "      <td>...</td>\n",
              "      <td>...</td>\n",
              "      <td>...</td>\n",
              "      <td>...</td>\n",
              "      <td>...</td>\n",
              "      <td>...</td>\n",
              "    </tr>\n",
              "    <tr>\n",
              "      <th>2022-05-30</th>\n",
              "      <td>0.481134</td>\n",
              "      <td>0.574956</td>\n",
              "      <td>0.478083</td>\n",
              "      <td>0.570073</td>\n",
              "      <td>0.570073</td>\n",
              "      <td>1185015742</td>\n",
              "      <td>0.184853</td>\n",
              "    </tr>\n",
              "    <tr>\n",
              "      <th>2022-05-31</th>\n",
              "      <td>0.570000</td>\n",
              "      <td>0.682313</td>\n",
              "      <td>0.569636</td>\n",
              "      <td>0.625254</td>\n",
              "      <td>0.625254</td>\n",
              "      <td>3269050143</td>\n",
              "      <td>0.096937</td>\n",
              "    </tr>\n",
              "    <tr>\n",
              "      <th>2022-06-01</th>\n",
              "      <td>0.625417</td>\n",
              "      <td>0.629977</td>\n",
              "      <td>0.540809</td>\n",
              "      <td>0.552750</td>\n",
              "      <td>0.552750</td>\n",
              "      <td>1404107650</td>\n",
              "      <td>-0.116190</td>\n",
              "    </tr>\n",
              "    <tr>\n",
              "      <th>2022-06-02</th>\n",
              "      <td>0.552636</td>\n",
              "      <td>0.595811</td>\n",
              "      <td>0.550444</td>\n",
              "      <td>0.587795</td>\n",
              "      <td>0.587795</td>\n",
              "      <td>1257661647</td>\n",
              "      <td>0.063621</td>\n",
              "    </tr>\n",
              "    <tr>\n",
              "      <th>2022-06-03</th>\n",
              "      <td>0.587836</td>\n",
              "      <td>0.603290</td>\n",
              "      <td>0.541486</td>\n",
              "      <td>0.559658</td>\n",
              "      <td>0.559658</td>\n",
              "      <td>910186327</td>\n",
              "      <td>-0.047935</td>\n",
              "    </tr>\n",
              "  </tbody>\n",
              "</table>\n",
              "<p>550 rows × 7 columns</p>\n",
              "</div>\n",
              "      <button class=\"colab-df-convert\" onclick=\"convertToInteractive('df-1f00baac-6911-46b6-a02c-633996bc3160')\"\n",
              "              title=\"Convert this dataframe to an interactive table.\"\n",
              "              style=\"display:none;\">\n",
              "        \n",
              "  <svg xmlns=\"http://www.w3.org/2000/svg\" height=\"24px\"viewBox=\"0 0 24 24\"\n",
              "       width=\"24px\">\n",
              "    <path d=\"M0 0h24v24H0V0z\" fill=\"none\"/>\n",
              "    <path d=\"M18.56 5.44l.94 2.06.94-2.06 2.06-.94-2.06-.94-.94-2.06-.94 2.06-2.06.94zm-11 1L8.5 8.5l.94-2.06 2.06-.94-2.06-.94L8.5 2.5l-.94 2.06-2.06.94zm10 10l.94 2.06.94-2.06 2.06-.94-2.06-.94-.94-2.06-.94 2.06-2.06.94z\"/><path d=\"M17.41 7.96l-1.37-1.37c-.4-.4-.92-.59-1.43-.59-.52 0-1.04.2-1.43.59L10.3 9.45l-7.72 7.72c-.78.78-.78 2.05 0 2.83L4 21.41c.39.39.9.59 1.41.59.51 0 1.02-.2 1.41-.59l7.78-7.78 2.81-2.81c.8-.78.8-2.07 0-2.86zM5.41 20L4 18.59l7.72-7.72 1.47 1.35L5.41 20z\"/>\n",
              "  </svg>\n",
              "      </button>\n",
              "      \n",
              "  <style>\n",
              "    .colab-df-container {\n",
              "      display:flex;\n",
              "      flex-wrap:wrap;\n",
              "      gap: 12px;\n",
              "    }\n",
              "\n",
              "    .colab-df-convert {\n",
              "      background-color: #E8F0FE;\n",
              "      border: none;\n",
              "      border-radius: 50%;\n",
              "      cursor: pointer;\n",
              "      display: none;\n",
              "      fill: #1967D2;\n",
              "      height: 32px;\n",
              "      padding: 0 0 0 0;\n",
              "      width: 32px;\n",
              "    }\n",
              "\n",
              "    .colab-df-convert:hover {\n",
              "      background-color: #E2EBFA;\n",
              "      box-shadow: 0px 1px 2px rgba(60, 64, 67, 0.3), 0px 1px 3px 1px rgba(60, 64, 67, 0.15);\n",
              "      fill: #174EA6;\n",
              "    }\n",
              "\n",
              "    [theme=dark] .colab-df-convert {\n",
              "      background-color: #3B4455;\n",
              "      fill: #D2E3FC;\n",
              "    }\n",
              "\n",
              "    [theme=dark] .colab-df-convert:hover {\n",
              "      background-color: #434B5C;\n",
              "      box-shadow: 0px 1px 3px 1px rgba(0, 0, 0, 0.15);\n",
              "      filter: drop-shadow(0px 1px 2px rgba(0, 0, 0, 0.3));\n",
              "      fill: #FFFFFF;\n",
              "    }\n",
              "  </style>\n",
              "\n",
              "      <script>\n",
              "        const buttonEl =\n",
              "          document.querySelector('#df-1f00baac-6911-46b6-a02c-633996bc3160 button.colab-df-convert');\n",
              "        buttonEl.style.display =\n",
              "          google.colab.kernel.accessAllowed ? 'block' : 'none';\n",
              "\n",
              "        async function convertToInteractive(key) {\n",
              "          const element = document.querySelector('#df-1f00baac-6911-46b6-a02c-633996bc3160');\n",
              "          const dataTable =\n",
              "            await google.colab.kernel.invokeFunction('convertToInteractive',\n",
              "                                                     [key], {});\n",
              "          if (!dataTable) return;\n",
              "\n",
              "          const docLinkHtml = 'Like what you see? Visit the ' +\n",
              "            '<a target=\"_blank\" href=https://colab.research.google.com/notebooks/data_table.ipynb>data table notebook</a>'\n",
              "            + ' to learn more about interactive tables.';\n",
              "          element.innerHTML = '';\n",
              "          dataTable['output_type'] = 'display_data';\n",
              "          await google.colab.output.renderOutput(dataTable, element);\n",
              "          const docLink = document.createElement('div');\n",
              "          docLink.innerHTML = docLinkHtml;\n",
              "          element.appendChild(docLink);\n",
              "        }\n",
              "      </script>\n",
              "    </div>\n",
              "  </div>\n",
              "  "
            ]
          },
          "metadata": {},
          "execution_count": 63
        }
      ]
    },
    {
      "cell_type": "code",
      "source": [
        "df_BTC2=df_BTC[[\"Rendimientos\"]]\n",
        "df_BTC2.plot()"
      ],
      "metadata": {
        "colab": {
          "base_uri": "https://localhost:8080/",
          "height": 308
        },
        "id": "5lnjd-S6kptR",
        "outputId": "862d638f-671f-40e3-b128-2b0dbc965e56"
      },
      "execution_count": 66,
      "outputs": [
        {
          "output_type": "execute_result",
          "data": {
            "text/plain": [
              "<matplotlib.axes._subplots.AxesSubplot at 0x7f86d34d75d0>"
            ]
          },
          "metadata": {},
          "execution_count": 66
        },
        {
          "output_type": "display_data",
          "data": {
            "text/plain": [
              "<Figure size 432x288 with 1 Axes>"
            ],
            "image/png": "[encoded data removed]"
          },
          "metadata": {
            "needs_background": "light"
          }
        }
      ]
    },
    {
      "cell_type": "code",
      "source": [
        "df_BTC[[\"Rendimientos\"]].iplot(kind='bar')"
      ],
      "metadata": {
        "colab": {
          "base_uri": "https://localhost:8080/",
          "height": 542
        },
        "id": "dTjY2B9Li8S5",
        "outputId": "5a73ee2d-8b45-4903-cb5a-9280eeef6b89"
      },
      "execution_count": 69,
      "outputs": [
        {
          "output_type": "display_data",
          "data": {
            "application/vnd.plotly.v1+json": {
              "data": [
                {
                  "marker": {
                    "color": "rgba(226, 74, 51, 0.6)",
                    "line": {
                      "color": "rgba(226, 74, 51, 1.0)",
                      "width": 1
                    }
                  },
                  "name": "Rendimientos",
                  "orientation": "v",
                  "text": "",
                  "x": [
                    "2020-12-01",
                    "2020-12-02",
                    "2020-12-03",
                    "2020-12-04",
                    "2020-12-05",
                    "2020-12-06",
                    "2020-12-07",
                    "2020-12-08",
                    "2020-12-09",
                    "2020-12-10",
                    "2020-12-11",
                    "2020-12-12",
                    "2020-12-13",
                    "2020-12-14",
                    "2020-12-15",
                    "2020-12-16",
                    "2020-12-17",
                    "2020-12-18",
                    "2020-12-19",
                    "2020-12-20",
                    "2020-12-21",
                    "2020-12-22",
                    "2020-12-23",
                    "2020-12-24",
                    "2020-12-25",
                    "2020-12-26",
                    "2020-12-27",
                    "2020-12-28",
                    "2020-12-29",
                    "2020-12-30",
                    "2020-12-31",
                    "2021-01-01",
                    "2021-01-02",
                    "2021-01-03",
                    "2021-01-04",
                    "2021-01-05",
                    "2021-01-06",
                    "2021-01-07",
                    "2021-01-08",
                    "2021-01-09",
                    "2021-01-10",
                    "2021-01-11",
                    "2021-01-12",
                    "2021-01-13",
                    "2021-01-14",
                    "2021-01-15",
                    "2021-01-16",
                    "2021-01-17",
                    "2021-01-18",
                    "2021-01-19",
                    "2021-01-20",
                    "2021-01-21",
                    "2021-01-22",
                    "2021-01-23",
                    "2021-01-24",
                    "2021-01-25",
                    "2021-01-26",
                    "2021-01-27",
                    "2021-01-28",
                    "2021-01-29",
                    "2021-01-30",
                    "2021-01-31",
                    "2021-02-01",
                    "2021-02-02",
                    "2021-02-03",
                    "2021-02-04",
                    "2021-02-05",
                    "2021-02-06",
                    "2021-02-07",
                    "2021-02-08",
                    "2021-02-09",
                    "2021-02-10",
                    "2021-02-11",
                    "2021-02-12",
                    "2021-02-13",
                    "2021-02-14",
                    "2021-02-15",
                    "2021-02-16",
                    "2021-02-17",
                    "2021-02-18",
                    "2021-02-19",
                    "2021-02-20",
                    "2021-02-21",
                    "2021-02-22",
                    "2021-02-23",
                    "2021-02-24",
                    "2021-02-25",
                    "2021-02-26",
                    "2021-02-27",
                    "2021-02-28",
                    "2021-03-01",
                    "2021-03-02",
                    "2021-03-03",
                    "2021-03-04",
                    "2021-03-05",
                    "2021-03-06",
                    "2021-03-07",
                    "2021-03-08",
                    "2021-03-09",
                    "2021-03-10",
                    "2021-03-11",
                    "2021-03-12",
                    "2021-03-13",
                    "2021-03-14",
                    "2021-03-15",
                    "2021-03-16",
                    "2021-03-17",
                    "2021-03-18",
                    "2021-03-19",
                    "2021-03-20",
                    "2021-03-21",
                    "2021-03-22",
                    "2021-03-23",
                    "2021-03-24",
                    "2021-03-25",
                    "2021-03-26",
                    "2021-03-27",
                    "2021-03-28",
                    "2021-03-29",
                    "2021-03-30",
                    "2021-03-31",
                    "2021-04-01",
                    "2021-04-02",
                    "2021-04-03",
                    "2021-04-04",
                    "2021-04-05",
                    "2021-04-06",
                    "2021-04-07",
                    "2021-04-08",
                    "2021-04-09",
                    "2021-04-10",
                    "2021-04-11",
                    "2021-04-12",
                    "2021-04-13",
                    "2021-04-14",
                    "2021-04-15",
                    "2021-04-16",
                    "2021-04-17",
                    "2021-04-18",
                    "2021-04-19",
                    "2021-04-20",
                    "2021-04-21",
                    "2021-04-22",
                    "2021-04-23",
                    "2021-04-24",
                    "2021-04-25",
                    "2021-04-26",
                    "2021-04-27",
                    "2021-04-28",
                    "2021-04-29",
                    "2021-04-30",
                    "2021-05-01",
                    "2021-05-02",
                    "2021-05-03",
                    "2021-05-04",
                    "2021-05-05",
                    "2021-05-06",
                    "2021-05-07",
                    "2021-05-08",
                    "2021-05-09",
                    "2021-05-10",
                    "2021-05-11",
                    "2021-05-12",
                    "2021-05-13",
                    "2021-05-14",
                    "2021-05-15",
                    "2021-05-16",
                    "2021-05-17",
                    "2021-05-18",
                    "2021-05-19",
                    "2021-05-20",
                    "2021-05-21",
                    "2021-05-22",
                    "2021-05-23",
                    "2021-05-24",
                    "2021-05-25",
                    "2021-05-26",
                    "2021-05-27",
                    "2021-05-28",
                    "2021-05-29",
                    "2021-05-30",
                    "2021-05-31",
                    "2021-06-01",
                    "2021-06-02",
                    "2021-06-03",
                    "2021-06-04",
                    "2021-06-05",
                    "2021-06-06",
                    "2021-06-07",
                    "2021-06-08",
                    "2021-06-09",
                    "2021-06-10",
                    "2021-06-11",
                    "2021-06-12",
                    "2021-06-13",
                    "2021-06-14",
                    "2021-06-15",
                    "2021-06-16",
                    "2021-06-17",
                    "2021-06-18",
                    "2021-06-19",
                    "2021-06-20",
                    "2021-06-21",
                    "2021-06-22",
                    "2021-06-23",
                    "2021-06-24",
                    "2021-06-25",
                    "2021-06-26",
                    "2021-06-27",
                    "2021-06-28",
                    "2021-06-29",
                    "2021-06-30",
                    "2021-07-01",
                    "2021-07-02",
                    "2021-07-03",
                    "2021-07-04",
                    "2021-07-05",
                    "2021-07-06",
                    "2021-07-07",
                    "2021-07-08",
                    "2021-07-09",
                    "2021-07-10",
                    "2021-07-11",
                    "2021-07-12",
                    "2021-07-13",
                    "2021-07-14",
                    "2021-07-15",
                    "2021-07-16",
                    "2021-07-17",
                    "2021-07-18",
                    "2021-07-19",
                    "2021-07-20",
                    "2021-07-21",
                    "2021-07-22",
                    "2021-07-23",
                    "2021-07-24",
                    "2021-07-25",
                    "2021-07-26",
                    "2021-07-27",
                    "2021-07-28",
                    "2021-07-29",
                    "2021-07-30",
                    "2021-07-31",
                    "2021-08-01",
                    "2021-08-02",
                    "2021-08-03",
                    "2021-08-04",
                    "2021-08-05",
                    "2021-08-06",
                    "2021-08-07",
                    "2021-08-08",
                    "2021-08-09",
                    "2021-08-10",
                    "2021-08-11",
                    "2021-08-12",
                    "2021-08-13",
                    "2021-08-14",
                    "2021-08-15",
                    "2021-08-16",
                    "2021-08-17",
                    "2021-08-18",
                    "2021-08-19",
                    "2021-08-20",
                    "2021-08-21",
                    "2021-08-22",
                    "2021-08-23",
                    "2021-08-24",
                    "2021-08-25",
                    "2021-08-26",
                    "2021-08-27",
                    "2021-08-28",
                    "2021-08-29",
                    "2021-08-30",
                    "2021-08-31",
                    "2021-09-01",
                    "2021-09-02",
                    "2021-09-03",
                    "2021-09-04",
                    "2021-09-05",
                    "2021-09-06",
                    "2021-09-07",
                    "2021-09-08",
                    "2021-09-09",
                    "2021-09-10",
                    "2021-09-11",
                    "2021-09-12",
                    "2021-09-13",
                    "2021-09-14",
                    "2021-09-15",
                    "2021-09-16",
                    "2021-09-17",
                    "2021-09-18",
                    "2021-09-19",
                    "2021-09-20",
                    "2021-09-21",
                    "2021-09-22",
                    "2021-09-23",
                    "2021-09-24",
                    "2021-09-25",
                    "2021-09-26",
                    "2021-09-27",
                    "2021-09-28",
                    "2021-09-29",
                    "2021-09-30",
                    "2021-10-01",
                    "2021-10-02",
                    "2021-10-03",
                    "2021-10-04",
                    "2021-10-05",
                    "2021-10-06",
                    "2021-10-07",
                    "2021-10-08",
                    "2021-10-09",
                    "2021-10-10",
                    "2021-10-11",
                    "2021-10-12",
                    "2021-10-13",
                    "2021-10-14",
                    "2021-10-15",
                    "2021-10-16",
                    "2021-10-17",
                    "2021-10-18",
                    "2021-10-19",
                    "2021-10-20",
                    "2021-10-21",
                    "2021-10-22",
                    "2021-10-23",
                    "2021-10-24",
                    "2021-10-25",
                    "2021-10-26",
                    "2021-10-27",
                    "2021-10-28",
                    "2021-10-29",
                    "2021-10-30",
                    "2021-10-31",
                    "2021-11-01",
                    "2021-11-02",
                    "2021-11-03",
                    "2021-11-04",
                    "2021-11-05",
                    "2021-11-06",
                    "2021-11-07",
                    "2021-11-08",
                    "2021-11-09",
                    "2021-11-10",
                    "2021-11-11",
                    "2021-11-12",
                    "2021-11-13",
                    "2021-11-14",
                    "2021-11-15",
                    "2021-11-16",
                    "2021-11-17",
                    "2021-11-18",
                    "2021-11-19",
                    "2021-11-20",
                    "2021-11-21",
                    "2021-11-22",
                    "2021-11-23",
                    "2021-11-24",
                    "2021-11-25",
                    "2021-11-26",
                    "2021-11-27",
                    "2021-11-28",
                    "2021-11-29",
                    "2021-11-30",
                    "2021-12-01",
                    "2021-12-02",
                    "2021-12-03",
                    "2021-12-04",
                    "2021-12-05",
                    "2021-12-06",
                    "2021-12-07",
                    "2021-12-08",
                    "2021-12-09",
                    "2021-12-10",
                    "2021-12-11",
                    "2021-12-12",
                    "2021-12-13",
                    "2021-12-14",
                    "2021-12-15",
                    "2021-12-16",
                    "2021-12-17",
                    "2021-12-18",
                    "2021-12-19",
                    "2021-12-20",
                    "2021-12-21",
                    "2021-12-22",
                    "2021-12-23",
                    "2021-12-24",
                    "2021-12-25",
                    "2021-12-26",
                    "2021-12-27",
                    "2021-12-28",
                    "2021-12-29",
                    "2021-12-30",
                    "2021-12-31",
                    "2022-01-01",
                    "2022-01-02",
                    "2022-01-03",
                    "2022-01-04",
                    "2022-01-05",
                    "2022-01-06",
                    "2022-01-07",
                    "2022-01-08",
                    "2022-01-09",
                    "2022-01-10",
                    "2022-01-11",
                    "2022-01-12",
                    "2022-01-13",
                    "2022-01-14",
                    "2022-01-15",
                    "2022-01-16",
                    "2022-01-17",
                    "2022-01-18",
                    "2022-01-19",
                    "2022-01-20",
                    "2022-01-21",
                    "2022-01-22",
                    "2022-01-23",
                    "2022-01-24",
                    "2022-01-25",
                    "2022-01-26",
                    "2022-01-27",
                    "2022-01-28",
                    "2022-01-29",
                    "2022-01-30",
                    "2022-01-31",
                    "2022-02-01",
                    "2022-02-02",
                    "2022-02-03",
                    "2022-02-04",
                    "2022-02-05",
                    "2022-02-06",
                    "2022-02-07",
                    "2022-02-08",
                    "2022-02-09",
                    "2022-02-10",
                    "2022-02-11",
                    "2022-02-12",
                    "2022-02-13",
                    "2022-02-14",
                    "2022-02-15",
                    "2022-02-16",
                    "2022-02-17",
                    "2022-02-18",
                    "2022-02-19",
                    "2022-02-20",
                    "2022-02-21",
                    "2022-02-22",
                    "2022-02-23",
                    "2022-02-24",
                    "2022-02-25",
                    "2022-02-26",
                    "2022-02-27",
                    "2022-02-28",
                    "2022-03-01",
                    "2022-03-02",
                    "2022-03-03",
                    "2022-03-04",
                    "2022-03-05",
                    "2022-03-06",
                    "2022-03-07",
                    "2022-03-08",
                    "2022-03-09",
                    "2022-03-10",
                    "2022-03-11",
                    "2022-03-12",
                    "2022-03-13",
                    "2022-03-14",
                    "2022-03-15",
                    "2022-03-16",
                    "2022-03-17",
                    "2022-03-18",
                    "2022-03-19",
                    "2022-03-20",
                    "2022-03-21",
                    "2022-03-22",
                    "2022-03-23",
                    "2022-03-24",
                    "2022-03-25",
                    "2022-03-26",
                    "2022-03-27",
                    "2022-03-28",
                    "2022-03-29",
                    "2022-03-30",
                    "2022-03-31",
                    "2022-04-01",
                    "2022-04-02",
                    "2022-04-03",
                    "2022-04-04",
                    "2022-04-05",
                    "2022-04-06",
                    "2022-04-07",
                    "2022-04-08",
                    "2022-04-09",
                    "2022-04-10",
                    "2022-04-11",
                    "2022-04-12",
                    "2022-04-13",
                    "2022-04-14",
                    "2022-04-15",
                    "2022-04-16",
                    "2022-04-17",
                    "2022-04-18",
                    "2022-04-19",
                    "2022-04-20",
                    "2022-04-21",
                    "2022-04-22",
                    "2022-04-23",
                    "2022-04-24",
                    "2022-04-25",
                    "2022-04-26",
                    "2022-04-27",
                    "2022-04-28",
                    "2022-04-29",
                    "2022-04-30",
                    "2022-05-01",
                    "2022-05-02",
                    "2022-05-03",
                    "2022-05-04",
                    "2022-05-05",
                    "2022-05-06",
                    "2022-05-07",
                    "2022-05-08",
                    "2022-05-09",
                    "2022-05-10",
                    "2022-05-11",
                    "2022-05-12",
                    "2022-05-13",
                    "2022-05-14",
                    "2022-05-15",
                    "2022-05-16",
                    "2022-05-17",
                    "2022-05-18",
                    "2022-05-19",
                    "2022-05-20",
                    "2022-05-21",
                    "2022-05-22",
                    "2022-05-23",
                    "2022-05-24",
                    "2022-05-25",
                    "2022-05-26",
                    "2022-05-27",
                    "2022-05-28",
                    "2022-05-29",
                    "2022-05-30",
                    "2022-05-31",
                    "2022-06-01",
                    "2022-06-02",
                    "2022-06-03"
                  ],
                  "y": [
                    -0.08977226137356205,
                    0.01667776606793598,
                    0.03543686141286858,
                    -0.09724190256535485,
                    0.07764365262486073,
                    -0.0049605517141482775,
                    -0.02987238402444272,
                    -0.08563717842914167,
                    0.05124799412335499,
                    -0.041681818913221876,
                    -0.01811690038805217,
                    0.03612743158005664,
                    0.06547269421430334,
                    0.025815514347698333,
                    -0.023787744649737173,
                    0.08603993374472017,
                    -0.024395627086001254,
                    0.009415731437229171,
                    -0.0016123205095550607,
                    -0.016633454575783045,
                    -0.05770222032865632,
                    0.02322550198211595,
                    -0.12694430420628322,
                    0.12037489814330896,
                    0.03059793532284484,
                    0.0017009659330145712,
                    -0.021623888986235816,
                    0.14436025689354787,
                    0.08746021921384566,
                    -0.04156815825207052,
                    -0.014328867616553524,
                    -0.03325580783974158,
                    0.011770166287068402,
                    0.15566967310306995,
                    0.09513920376268183,
                    0.1489968359298699,
                    0.2836947644881283,
                    -0.09718537602435619,
                    0.017344333419483368,
                    0.0895320774941675,
                    -0.08429209446885548,
                    -0.0968209984631572,
                    0.04270317407520975,
                    0.09390349111345285,
                    -0.010046423970364394,
                    -0.025837719494805556,
                    0.16505793046295308,
                    0.07809283137835518,
                    -0.021875729881636743,
                    -0.006245733221577068,
                    0.01750434874345669,
                    -0.17376526614032822,
                    0.12747135967002465,
                    -0.010560129101421584,
                    0.024002707153933676,
                    -0.028158877664016785,
                    0.0011429795770949562,
                    -0.09046004087085767,
                    0.10576924724765935,
                    -0.01196827800298693,
                    0.041775118240755645,
                    -0.04884062396108195,
                    0.16593145510179264,
                    0.057810895415035694,
                    0.03624996956512126,
                    -0.0006932720068620897,
                    0.21927631500278774,
                    0.16759956293902006,
                    0.054714148274178795,
                    0.030391908784859964,
                    0.031329126477763015,
                    0.32232339400166576,
                    -0.0033110880146336413,
                    -0.0016265835964637686,
                    -0.021289788450177857,
                    -0.06389612996289416,
                    0.015553907184425803,
                    0.011906552540823534,
                    0.02297596165197898,
                    0.026098094364746544,
                    0.0146491188610225,
                    0.21078595881937479,
                    -0.01878061915948816,
                    -0.001140520264871965,
                    -0.13111032682365098,
                    0.10125988536555512,
                    0.02641077493762299,
                    0.14829095490921557,
                    0.0665904852720289,
                    -0.011755672019209388,
                    -0.013287666195942746,
                    -0.05258700139399068,
                    -0.007445383597631451,
                    -0.08350309869976127,
                    0.04834202648693567,
                    -0.031216651413089172,
                    0.00222659135344223,
                    -0.013139296875632972,
                    0.06887836258806271,
                    -0.05028861621519501,
                    -0.008482845891603598,
                    -0.07617103936867846,
                    0.06200823304981425,
                    -0.0397359238881148,
                    -0.023674608727359294,
                    0.20296402799343105,
                    0.10865463378674318,
                    -0.10113775925277466,
                    0.051358901906160534,
                    -0.07294126203178776,
                    -0.014332414023845394,
                    -0.06670771283746058,
                    0.011005557368036687,
                    -0.04132812503322162,
                    0.02522923412735483,
                    0.10218029848833633,
                    -0.030891678280768598,
                    0.01215472389155381,
                    0.009710497765356362,
                    0.0089434576604799,
                    -0.01681752873280972,
                    -0.003610178253674899,
                    0.006139357244531767,
                    -0.0192664847127849,
                    0.015726637973797947,
                    0.01909106161465457,
                    0.03382664885548567,
                    -0.06396720630616405,
                    0.03681907053539845,
                    -0.013050169890636142,
                    0.012650199827317184,
                    0.03970583745974692,
                    0.0394255875656886,
                    0.07368719469446396,
                    0.03148200576243438,
                    0.01911123480081657,
                    -0.04236066178155981,
                    -0.020493120885653037,
                    -0.07984526143457817,
                    -0.06263360272848288,
                    0.0597056792228643,
                    -0.04811730314037327,
                    -0.04724977210736768,
                    0.008620904906309575,
                    -0.04955889445234521,
                    -0.013106824402606533,
                    0.13193440496228434,
                    0.05602156255926896,
                    0.022741726171693045,
                    -0.021758100991881045,
                    0.03541052494778303,
                    0.0004731593984811301,
                    -0.01819592882455796,
                    0.026445843978746875,
                    -0.0651738395007295,
                    0.16093253645748284,
                    0.11637429093693709,
                    0.002893243061990267,
                    -0.021147792460452498,
                    0.09270546838628722,
                    -0.06872441250172462,
                    0.07453172152788468,
                    -0.11949495962781119,
                    0.23285284795021885,
                    0.04021878341251206,
                    0.08342518782694387,
                    0.06340469236095267,
                    -0.11649641530993514,
                    -0.0120511642828568,
                    -0.26117166809862336,
                    0.2299707702743765,
                    -0.13886487192133667,
                    -0.05762041181242045,
                    -0.09568528383251261,
                    0.17720906103471773,
                    0.003222489981331703,
                    0.1468281560863637,
                    -0.07589366626375553,
                    -0.08399731398563309,
                    -0.0709496353130102,
                    0.1231757124932312,
                    0.1060734059342718,
                    -0.0021248495695374457,
                    0.009631277891669907,
                    0.04891483205530371,
                    -0.07353972870568952,
                    -0.029771647222165094,
                    0.01315276808832159,
                    -0.06744467554174105,
                    0.013387520190558248,
                    0.02610695294816183,
                    -0.058927591134306546,
                    -0.06311175319583372,
                    0.029559939498252058,
                    0.05259393375656761,
                    0.011618974089866936,
                    0.01517665716498702,
                    -0.04754456410201034,
                    -0.0015924197255764,
                    -0.04545020410762167,
                    -0.01906949341877993,
                    0.030113704418004435,
                    -0.17487251037484783,
                    -0.01870180144806006,
                    0.08400378440212027,
                    0.08364721496023658,
                    -0.07579431166495111,
                    -0.003078169129940118,
                    0.0666026351941123,
                    -0.009245287644791947,
                    0.03238296896838615,
                    0.007650584469089517,
                    -0.034833433017986394,
                    0.04610478997146007,
                    0.009097994483965149,
                    0.03858665459637061,
                    -0.03854511605443475,
                    0.009497369983887746,
                    -0.009204471683780668,
                    -0.053252621907988094,
                    0.016731299470995085,
                    -0.01083135881631886,
                    0.009716313988054715,
                    -0.024598282343026003,
                    -0.037207763388095734,
                    -0.002118636680243998,
                    -0.032050535845308877,
                    -0.04190439435198722,
                    0.0006120289170690133,
                    0.009248482531078904,
                    -0.05150844258675912,
                    -0.05920149443737435,
                    0.10793804819732385,
                    0.01359457296864503,
                    0.016907972737575955,
                    0.021891820518457377,
                    -0.004106049709400031,
                    0.02422921614429897,
                    0.017929307118948832,
                    0.002090866946125251,
                    -0.0018733504980682724,
                    0.018012984798716335,
                    0.009512280180617016,
                    -0.0016879489117741888,
                    -0.004333598279099783,
                    0.04249005299455324,
                    0.004950405867488071,
                    0.006685798714214203,
                    0.011248745509849736,
                    0.04859383797118557,
                    -0.030729128438380986,
                    0.03576503399128845,
                    0.13374167046789215,
                    0.07156895564938501,
                    0.015633730292047676,
                    0.16549853798269254,
                    0.024973279073070946,
                    -0.009472198965932833,
                    -0.0408008756917777,
                    -0.0703145645973001,
                    0.09565187873814368,
                    0.15322354540851035,
                    0.008165985369178412,
                    -0.00886331403219952,
                    0.1136145990486198,
                    0.07707627632977691,
                    -0.06813163179799481,
                    0.004587164389587685,
                    -0.07501850002139636,
                    0.1628997626052345,
                    -0.03387735932086246,
                    0.002090198603165765,
                    -0.041245730280339156,
                    0.012724059457788761,
                    0.03639783095197108,
                    0.03264674986399818,
                    0.003015565166298791,
                    -0.04503212159581853,
                    0.02804210256152461,
                    -0.02736795507652438,
                    -0.11660379943735107,
                    -0.012713170509111726,
                    0.046101919840958655,
                    -0.05233224275669642,
                    0.10429544805953903,
                    -0.02256957498280241,
                    -0.0705113175018896,
                    -0.0031408694689411673,
                    0.043508001232006835,
                    -0.03311651262722251,
                    -0.02977946439098756,
                    0.009605791527398754,
                    -0.03698675172901948,
                    -0.09610466604151656,
                    -0.0445933462918866,
                    0.14207565771094782,
                    0.031530842869006634,
                    -0.020496677145523716,
                    0.009715729635219,
                    -0.040803670152651725,
                    -0.03441758748690445,
                    -0.04410149540182854,
                    0.013081237461631437,
                    0.023160273021052495,
                    0.06704215050778532,
                    -0.0013625998129478812,
                    0.0015809302187047099,
                    -0.02780516753159233,
                    0.020074214137584107,
                    -0.009373552648521083,
                    0.030296763464026544,
                    -0.01791365854582627,
                    0.01435999712343392,
                    -0.030906564300958127,
                    -0.008448338199802383,
                    -0.024998615136964327,
                    0.0328757763115724,
                    -0.007719765776762394,
                    0.019177913854641092,
                    -0.017079737906295765,
                    -0.009493772055751509,
                    -0.013703609746439135,
                    -0.007166069260837437,
                    0.03535586628207475,
                    -0.024227309708519672,
                    0.0078062511356184715,
                    0.005013411007144243,
                    -0.020020608948773062,
                    0.011446852973032553,
                    -0.0023969569300624372,
                    -0.10506822592520475,
                    0.0397286370466263,
                    0.012465428543305516,
                    -0.02722633026722883,
                    0.004685389615138941,
                    -0.0076134045035653065,
                    0.011056929338181793,
                    0.04681788208317725,
                    -0.038592738886397054,
                    0.0007361293434994782,
                    0.010730304647172678,
                    0.007428651598699092,
                    0.05068039547884032,
                    0.0692790802455029,
                    -0.07365611210534408,
                    -0.0077291503175444766,
                    -0.01750961958485072,
                    0.0033784464785681584,
                    -0.005481727960739572,
                    -0.012571226339890313,
                    -0.07120311230986734,
                    -0.0012077681872272403,
                    -0.04686906541043073,
                    0.0434013258779656,
                    0.030620390296881406,
                    -0.043219752967633245,
                    -0.033583423531339654,
                    -0.015621841967715513,
                    -0.037015377812460774,
                    -0.009546189728742294,
                    -0.08826599306726612,
                    0.00924372579320172,
                    0.029859589153276543,
                    0.005021589988489526,
                    -0.029460677056709204,
                    -0.0032881953694114613,
                    0.10832806558742254,
                    -0.09540427520657715,
                    -0.08834777603903833,
                    -0.029919529623899842,
                    0.03350082579366602,
                    -0.028982855994119903,
                    0.011684062265736062,
                    -0.0741164757734873,
                    -0.06198093209585447,
                    0.11607070227166356,
                    -0.003652479906115107,
                    -0.09091734004966674,
                    -0.001327165466827435,
                    0.0359988115438407,
                    -0.0543398973876367,
                    -0.016806021071058497,
                    0.018039078027421954,
                    0.0018247054583611752,
                    -0.004179582858533258,
                    0.03594253436759593,
                    0.03725892658873238,
                    0.10975565667364275,
                    -0.05530308863570482,
                    0.04254023845517166,
                    0.0017440440465233693,
                    0.03920424183378705,
                    -0.07446941515383004,
                    -0.050748904596824455,
                    0.020760128988723682,
                    -0.03694386393806764,
                    0.05102169967025979,
                    0.0004117301183524978,
                    -0.04062282745325471,
                    -0.0074536248018039234,
                    -0.05788512240917718,
                    0.03608544711458099,
                    -0.053417514209644246,
                    -0.019774308169323976,
                    -0.01164698786752023,
                    -0.03896284856919223,
                    0.05076264513299123,
                    0.10036175520403318,
                    -0.05479992777941436,
                    0.046665668560137256,
                    0.004007408747936372,
                    0.08589795267698482,
                    0.13202643681216214,
                    -0.08201731673815704,
                    -0.08409113361062517,
                    -0.0623103832394355,
                    -0.10769758906701529,
                    -0.05018613068219753,
                    0.051242771758973404,
                    -0.050039931717930246,
                    -0.02151395891851774,
                    0.03394623965063072,
                    -0.03263269159257538,
                    0.0070665083203247615,
                    0.008641575748800012,
                    -0.021019232017418593,
                    0.01415555462368791,
                    0.03458163467034184,
                    -0.05631709430444967,
                    0.026982035539548,
                    0.07515421411745374,
                    -0.007672112294162521,
                    0.015357871084746476,
                    0.046271420526411956,
                    -0.01580591912739573,
                    0.014306130652371296,
                    -0.03528941708652931,
                    -0.06266340492897218,
                    -0.020649420900281917,
                    -0.0115206236153855,
                    0.004589265943217982,
                    0.054624888207733445,
                    -0.02044905215335939,
                    -0.05941345783752032,
                    -0.022651941383817792,
                    0.0007001268849202079,
                    -0.06488084167247352,
                    -0.07959230754331914,
                    0.03599339086000503,
                    -0.02229496150122429,
                    -0.017374470739120504,
                    0.05208112642506628,
                    -0.011222781447845737,
                    -0.033175690187545015,
                    0.11885022028574267,
                    0.0025628073147309573,
                    -0.02469075629294501,
                    -0.0384171404385077,
                    -0.066354058960596,
                    0.026681292104716422,
                    -0.048442439617360014,
                    -0.03199920694817594,
                    0.005113067092556205,
                    0.05964926527999053,
                    -0.05067252817089797,
                    -0.020063200133831054,
                    0.0007606811653517764,
                    0.000541410107563509,
                    0.017086003052730985,
                    -0.004770871943749372,
                    0.04793612063618601,
                    -0.0018822100789313903,
                    0.02005125821280173,
                    0.05604886486468362,
                    -0.0268827379825805,
                    0.04512192743747686,
                    0.06495015090853255,
                    0.1345267874441429,
                    0.020598735989836237,
                    -0.0286137385772025,
                    0.04788554587502933,
                    0.027056328841103233,
                    -0.01027622529071995,
                    0.018666947234661894,
                    -0.0004995663951865461,
                    -0.0407024490453234,
                    0.02055507095025277,
                    -0.008097313002987893,
                    0.025981318762802987,
                    0.022891743223301488,
                    -0.03481201400405381,
                    -0.1008044238475194,
                    0.036809426364507555,
                    -0.05982425117171892,
                    0.018620437384542412,
                    -0.013518520462011116,
                    -0.10694103964945213,
                    0.037525587423004644,
                    0.020493703058756807,
                    -0.04325706375104698,
                    0.023793371018916935,
                    -0.0021619158065276397,
                    -0.036812446021223695,
                    0.02094912139069814,
                    0.017689707053676517,
                    -0.01676657930758261,
                    -0.028591496942889313,
                    -0.0034942967888127504,
                    -0.020593376928929024,
                    -0.00217166529701804,
                    0.013895879585406586,
                    -0.07893811332469244,
                    0.01577446114668326,
                    0.00396733247163636,
                    -0.04607849424484963,
                    -0.060115063763650924,
                    0.04446010723938303,
                    -0.011071991248601577,
                    -0.013161792860836814,
                    0.16318746753988106,
                    -0.11806219537751893,
                    -0.009741281332816149,
                    -0.027407870029871106,
                    -0.029512414736872404,
                    -0.17500936172462714,
                    0.031134205333942046,
                    -0.18444211627138915,
                    -0.07651671169943863,
                    0.11714599535972692,
                    0.01969219895846081,
                    0.10774112523544392,
                    -0.06836526776003377,
                    0.038406995260823855,
                    -0.1253198149303576,
                    0.055038718923279766,
                    -0.02898016095234402,
                    0.020098275935884022,
                    0.027016492630250355,
                    -0.05507807559981897,
                    0.016651473511302323,
                    -0.014129804608124194,
                    -0.06434434689830332,
                    -0.05229659797182525,
                    0.014378780571015624,
                    0.03527628705170215,
                    0.18485289247925785,
                    0.09693681269700251,
                    -0.11618968362554127,
                    0.0636205206944923,
                    -0.04793519776213384
                  ],
                  "type": "bar"
                }
              ],
              "layout": {
                "legend": {
                  "bgcolor": "#FFFFFF",
                  "font": {
                    "color": "#666666"
                  }
                },
                "paper_bgcolor": "#FFFFFF",
                "plot_bgcolor": "#E5E5E5",
                "template": {
                  "data": {
                    "barpolar": [
                      {
                        "marker": {
                          "line": {
                            "color": "#E5ECF6",
                            "width": 0.5
                          },
                          "pattern": {
                            "fillmode": "overlay",
                            "size": 10,
                            "solidity": 0.2
                          }
                        },
                        "type": "barpolar"
                      }
                    ],
                    "bar": [
                      {
                        "error_x": {
                          "color": "#2a3f5f"
                        },
                        "error_y": {
                          "color": "#2a3f5f"
                        },
                        "marker": {
                          "line": {
                            "color": "#E5ECF6",
                            "width": 0.5
                          },
                          "pattern": {
                            "fillmode": "overlay",
                            "size": 10,
                            "solidity": 0.2
                          }
                        },
                        "type": "bar"
                      }
                    ],
                    "carpet": [
                      {
                        "aaxis": {
                          "endlinecolor": "#2a3f5f",
                          "gridcolor": "white",
                          "linecolor": "white",
                          "minorgridcolor": "white",
                          "startlinecolor": "#2a3f5f"
                        },
                        "baxis": {
                          "endlinecolor": "#2a3f5f",
                          "gridcolor": "white",
                          "linecolor": "white",
                          "minorgridcolor": "white",
                          "startlinecolor": "#2a3f5f"
                        },
                        "type": "carpet"
                      }
                    ],
                    "choropleth": [
                      {
                        "colorbar": {
                          "outlinewidth": 0,
                          "ticks": ""
                        },
                        "type": "choropleth"
                      }
                    ],
                    "contourcarpet": [
                      {
                        "colorbar": {
                          "outlinewidth": 0,
                          "ticks": ""
                        },
                        "type": "contourcarpet"
                      }
                    ],
                    "contour": [
                      {
                        "colorbar": {
                          "outlinewidth": 0,
                          "ticks": ""
                        },
                        "colorscale": [
                          [
                            0,
                            "#0d0887"
                          ],
                          [
                            0.1111111111111111,
                            "#46039f"
                          ],
                          [
                            0.2222222222222222,
                            "#7201a8"
                          ],
                          [
                            0.3333333333333333,
                            "#9c179e"
                          ],
                          [
                            0.4444444444444444,
                            "#bd3786"
                          ],
                          [
                            0.5555555555555556,
                            "#d8576b"
                          ],
                          [
                            0.6666666666666666,
                            "#ed7953"
                          ],
                          [
                            0.7777777777777778,
                            "#fb9f3a"
                          ],
                          [
                            0.8888888888888888,
                            "#fdca26"
                          ],
                          [
                            1,
                            "#f0f921"
                          ]
                        ],
                        "type": "contour"
                      }
                    ],
                    "heatmapgl": [
                      {
                        "colorbar": {
                          "outlinewidth": 0,
                          "ticks": ""
                        },
                        "colorscale": [
                          [
                            0,
                            "#0d0887"
                          ],
                          [
                            0.1111111111111111,
                            "#46039f"
                          ],
                          [
                            0.2222222222222222,
                            "#7201a8"
                          ],
                          [
                            0.3333333333333333,
                            "#9c179e"
                          ],
                          [
                            0.4444444444444444,
                            "#bd3786"
                          ],
                          [
                            0.5555555555555556,
                            "#d8576b"
                          ],
                          [
                            0.6666666666666666,
                            "#ed7953"
                          ],
                          [
                            0.7777777777777778,
                            "#fb9f3a"
                          ],
                          [
                            0.8888888888888888,
                            "#fdca26"
                          ],
                          [
                            1,
                            "#f0f921"
                          ]
                        ],
                        "type": "heatmapgl"
                      }
                    ],
                    "heatmap": [
                      {
                        "colorbar": {
                          "outlinewidth": 0,
                          "ticks": ""
                        },
                        "colorscale": [
                          [
                            0,
                            "#0d0887"
                          ],
                          [
                            0.1111111111111111,
                            "#46039f"
                          ],
                          [
                            0.2222222222222222,
                            "#7201a8"
                          ],
                          [
                            0.3333333333333333,
                            "#9c179e"
                          ],
                          [
                            0.4444444444444444,
                            "#bd3786"
                          ],
                          [
                            0.5555555555555556,
                            "#d8576b"
                          ],
                          [
                            0.6666666666666666,
                            "#ed7953"
                          ],
                          [
                            0.7777777777777778,
                            "#fb9f3a"
                          ],
                          [
                            0.8888888888888888,
                            "#fdca26"
                          ],
                          [
                            1,
                            "#f0f921"
                          ]
                        ],
                        "type": "heatmap"
                      }
                    ],
                    "histogram2dcontour": [
                      {
                        "colorbar": {
                          "outlinewidth": 0,
                          "ticks": ""
                        },
                        "colorscale": [
                          [
                            0,
                            "#0d0887"
                          ],
                          [
                            0.1111111111111111,
                            "#46039f"
                          ],
                          [
                            0.2222222222222222,
                            "#7201a8"
                          ],
                          [
                            0.3333333333333333,
                            "#9c179e"
                          ],
                          [
                            0.4444444444444444,
                            "#bd3786"
                          ],
                          [
                            0.5555555555555556,
                            "#d8576b"
                          ],
                          [
                            0.6666666666666666,
                            "#ed7953"
                          ],
                          [
                            0.7777777777777778,
                            "#fb9f3a"
                          ],
                          [
                            0.8888888888888888,
                            "#fdca26"
                          ],
                          [
                            1,
                            "#f0f921"
                          ]
                        ],
                        "type": "histogram2dcontour"
                      }
                    ],
                    "histogram2d": [
                      {
                        "colorbar": {
                          "outlinewidth": 0,
                          "ticks": ""
                        },
                        "colorscale": [
                          [
                            0,
                            "#0d0887"
                          ],
                          [
                            0.1111111111111111,
                            "#46039f"
                          ],
                          [
                            0.2222222222222222,
                            "#7201a8"
                          ],
                          [
                            0.3333333333333333,
                            "#9c179e"
                          ],
                          [
                            0.4444444444444444,
                            "#bd3786"
                          ],
                          [
                            0.5555555555555556,
                            "#d8576b"
                          ],
                          [
                            0.6666666666666666,
                            "#ed7953"
                          ],
                          [
                            0.7777777777777778,
                            "#fb9f3a"
                          ],
                          [
                            0.8888888888888888,
                            "#fdca26"
                          ],
                          [
                            1,
                            "#f0f921"
                          ]
                        ],
                        "type": "histogram2d"
                      }
                    ],
                    "histogram": [
                      {
                        "marker": {
                          "pattern": {
                            "fillmode": "overlay",
                            "size": 10,
                            "solidity": 0.2
                          }
                        },
                        "type": "histogram"
                      }
                    ],
                    "mesh3d": [
                      {
                        "colorbar": {
                          "outlinewidth": 0,
                          "ticks": ""
                        },
                        "type": "mesh3d"
                      }
                    ],
                    "parcoords": [
                      {
                        "line": {
                          "colorbar": {
                            "outlinewidth": 0,
                            "ticks": ""
                          }
                        },
                        "type": "parcoords"
                      }
                    ],
                    "pie": [
                      {
                        "automargin": true,
                        "type": "pie"
                      }
                    ],
                    "scatter3d": [
                      {
                        "line": {
                          "colorbar": {
                            "outlinewidth": 0,
                            "ticks": ""
                          }
                        },
                        "marker": {
                          "colorbar": {
                            "outlinewidth": 0,
                            "ticks": ""
                          }
                        },
                        "type": "scatter3d"
                      }
                    ],
                    "scattercarpet": [
                      {
                        "marker": {
                          "colorbar": {
                            "outlinewidth": 0,
                            "ticks": ""
                          }
                        },
                        "type": "scattercarpet"
                      }
                    ],
                    "scattergeo": [
                      {
                        "marker": {
                          "colorbar": {
                            "outlinewidth": 0,
                            "ticks": ""
                          }
                        },
                        "type": "scattergeo"
                      }
                    ],
                    "scattergl": [
                      {
                        "marker": {
                          "colorbar": {
                            "outlinewidth": 0,
                            "ticks": ""
                          }
                        },
                        "type": "scattergl"
                      }
                    ],
                    "scattermapbox": [
                      {
                        "marker": {
                          "colorbar": {
                            "outlinewidth": 0,
                            "ticks": ""
                          }
                        },
                        "type": "scattermapbox"
                      }
                    ],
                    "scatterpolargl": [
                      {
                        "marker": {
                          "colorbar": {
                            "outlinewidth": 0,
                            "ticks": ""
                          }
                        },
                        "type": "scatterpolargl"
                      }
                    ],
                    "scatterpolar": [
                      {
                        "marker": {
                          "colorbar": {
                            "outlinewidth": 0,
                            "ticks": ""
                          }
                        },
                        "type": "scatterpolar"
                      }
                    ],
                    "scatter": [
                      {
                        "marker": {
                          "colorbar": {
                            "outlinewidth": 0,
                            "ticks": ""
                          }
                        },
                        "type": "scatter"
                      }
                    ],
                    "scatterternary": [
                      {
                        "marker": {
                          "colorbar": {
                            "outlinewidth": 0,
                            "ticks": ""
                          }
                        },
                        "type": "scatterternary"
                      }
                    ],
                    "surface": [
                      {
                        "colorbar": {
                          "outlinewidth": 0,
                          "ticks": ""
                        },
                        "colorscale": [
                          [
                            0,
                            "#0d0887"
                          ],
                          [
                            0.1111111111111111,
                            "#46039f"
                          ],
                          [
                            0.2222222222222222,
                            "#7201a8"
                          ],
                          [
                            0.3333333333333333,
                            "#9c179e"
                          ],
                          [
                            0.4444444444444444,
                            "#bd3786"
                          ],
                          [
                            0.5555555555555556,
                            "#d8576b"
                          ],
                          [
                            0.6666666666666666,
                            "#ed7953"
                          ],
                          [
                            0.7777777777777778,
                            "#fb9f3a"
                          ],
                          [
                            0.8888888888888888,
                            "#fdca26"
                          ],
                          [
                            1,
                            "#f0f921"
                          ]
                        ],
                        "type": "surface"
                      }
                    ],
                    "table": [
                      {
                        "cells": {
                          "fill": {
                            "color": "#EBF0F8"
                          },
                          "line": {
                            "color": "white"
                          }
                        },
                        "header": {
                          "fill": {
                            "color": "#C8D4E3"
                          },
                          "line": {
                            "color": "white"
                          }
                        },
                        "type": "table"
                      }
                    ]
                  },
                  "layout": {
                    "annotationdefaults": {
                      "arrowcolor": "#2a3f5f",
                      "arrowhead": 0,
                      "arrowwidth": 1
                    },
                    "autotypenumbers": "strict",
                    "coloraxis": {
                      "colorbar": {
                        "outlinewidth": 0,
                        "ticks": ""
                      }
                    },
                    "colorscale": {
                      "diverging": [
                        [
                          0,
                          "#8e0152"
                        ],
                        [
                          0.1,
                          "#c51b7d"
                        ],
                        [
                          0.2,
                          "#de77ae"
                        ],
                        [
                          0.3,
                          "#f1b6da"
                        ],
                        [
                          0.4,
                          "#fde0ef"
                        ],
                        [
                          0.5,
                          "#f7f7f7"
                        ],
                        [
                          0.6,
                          "#e6f5d0"
                        ],
                        [
                          0.7,
                          "#b8e186"
                        ],
                        [
                          0.8,
                          "#7fbc41"
                        ],
                        [
                          0.9,
                          "#4d9221"
                        ],
                        [
                          1,
                          "#276419"
                        ]
                      ],
                      "sequential": [
                        [
                          0,
                          "#0d0887"
                        ],
                        [
                          0.1111111111111111,
                          "#46039f"
                        ],
                        [
                          0.2222222222222222,
                          "#7201a8"
                        ],
                        [
                          0.3333333333333333,
                          "#9c179e"
                        ],
                        [
                          0.4444444444444444,
                          "#bd3786"
                        ],
                        [
                          0.5555555555555556,
                          "#d8576b"
                        ],
                        [
                          0.6666666666666666,
                          "#ed7953"
                        ],
                        [
                          0.7777777777777778,
                          "#fb9f3a"
                        ],
                        [
                          0.8888888888888888,
                          "#fdca26"
                        ],
                        [
                          1,
                          "#f0f921"
                        ]
                      ],
                      "sequentialminus": [
                        [
                          0,
                          "#0d0887"
                        ],
                        [
                          0.1111111111111111,
                          "#46039f"
                        ],
                        [
                          0.2222222222222222,
                          "#7201a8"
                        ],
                        [
                          0.3333333333333333,
                          "#9c179e"
                        ],
                        [
                          0.4444444444444444,
                          "#bd3786"
                        ],
                        [
                          0.5555555555555556,
                          "#d8576b"
                        ],
                        [
                          0.6666666666666666,
                          "#ed7953"
                        ],
                        [
                          0.7777777777777778,
                          "#fb9f3a"
                        ],
                        [
                          0.8888888888888888,
                          "#fdca26"
                        ],
                        [
                          1,
                          "#f0f921"
                        ]
                      ]
                    },
                    "colorway": [
                      "#636efa",
                      "#EF553B",
                      "#00cc96",
                      "#ab63fa",
                      "#FFA15A",
                      "#19d3f3",
                      "#FF6692",
                      "#B6E880",
                      "#FF97FF",
                      "#FECB52"
                    ],
                    "font": {
                      "color": "#2a3f5f"
                    },
                    "geo": {
                      "bgcolor": "white",
                      "lakecolor": "white",
                      "landcolor": "#E5ECF6",
                      "showlakes": true,
                      "showland": true,
                      "subunitcolor": "white"
                    },
                    "hoverlabel": {
                      "align": "left"
                    },
                    "hovermode": "closest",
                    "mapbox": {
                      "style": "light"
                    },
                    "paper_bgcolor": "white",
                    "plot_bgcolor": "#E5ECF6",
                    "polar": {
                      "angularaxis": {
                        "gridcolor": "white",
                        "linecolor": "white",
                        "ticks": ""
                      },
                      "bgcolor": "#E5ECF6",
                      "radialaxis": {
                        "gridcolor": "white",
                        "linecolor": "white",
                        "ticks": ""
                      }
                    },
                    "scene": {
                      "xaxis": {
                        "backgroundcolor": "#E5ECF6",
                        "gridcolor": "white",
                        "gridwidth": 2,
                        "linecolor": "white",
                        "showbackground": true,
                        "ticks": "",
                        "zerolinecolor": "white"
                      },
                      "yaxis": {
                        "backgroundcolor": "#E5ECF6",
                        "gridcolor": "white",
                        "gridwidth": 2,
                        "linecolor": "white",
                        "showbackground": true,
                        "ticks": "",
                        "zerolinecolor": "white"
                      },
                      "zaxis": {
                        "backgroundcolor": "#E5ECF6",
                        "gridcolor": "white",
                        "gridwidth": 2,
                        "linecolor": "white",
                        "showbackground": true,
                        "ticks": "",
                        "zerolinecolor": "white"
                      }
                    },
                    "shapedefaults": {
                      "line": {
                        "color": "#2a3f5f"
                      }
                    },
                    "ternary": {
                      "aaxis": {
                        "gridcolor": "white",
                        "linecolor": "white",
                        "ticks": ""
                      },
                      "baxis": {
                        "gridcolor": "white",
                        "linecolor": "white",
                        "ticks": ""
                      },
                      "bgcolor": "#E5ECF6",
                      "caxis": {
                        "gridcolor": "white",
                        "linecolor": "white",
                        "ticks": ""
                      }
                    },
                    "title": {
                      "x": 0.05
                    },
                    "xaxis": {
                      "automargin": true,
                      "gridcolor": "white",
                      "linecolor": "white",
                      "ticks": "",
                      "title": {
                        "standoff": 15
                      },
                      "zerolinecolor": "white",
                      "zerolinewidth": 2
                    },
                    "yaxis": {
                      "automargin": true,
                      "gridcolor": "white",
                      "linecolor": "white",
                      "ticks": "",
                      "title": {
                        "standoff": 15
                      },
                      "zerolinecolor": "white",
                      "zerolinewidth": 2
                    }
                  }
                },
                "title": {
                  "font": {
                    "color": "#151516"
                  }
                },
                "xaxis": {
                  "gridcolor": "#F6F6F6",
                  "showgrid": true,
                  "tickfont": {
                    "color": "#666666"
                  },
                  "title": {
                    "font": {
                      "color": "#666666"
                    },
                    "text": ""
                  },
                  "zerolinecolor": "#F6F6F6"
                },
                "yaxis": {
                  "gridcolor": "#F6F6F6",
                  "showgrid": true,
                  "tickfont": {
                    "color": "#666666"
                  },
                  "title": {
                    "font": {
                      "color": "#666666"
                    },
                    "text": ""
                  },
                  "zerolinecolor": "#F6F6F6"
                }
              },
              "config": {
                "showLink": true,
                "linkText": "Export to plot.ly",
                "plotlyServerURL": "https://plot.ly"
              }
            },
            "text/html": [
              "<div>                            <div id=\"195ed530-4e4b-45f5-924d-b3781ccc9e8a\" class=\"plotly-graph-div\" style=\"height:525px; width:100%;\"></div>            <script type=\"text/javascript\">                require([\"plotly\"], function(Plotly) {                    window.PLOTLYENV=window.PLOTLYENV || {};\n",
              "                    window.PLOTLYENV.BASE_URL='https://plot.ly';                                    if (document.getElementById(\"195ed530-4e4b-45f5-924d-b3781ccc9e8a\")) {                    Plotly.newPlot(                        \"195ed530-4e4b-45f5-924d-b3781ccc9e8a\",                        [{\"marker\":{\"color\":\"rgba(226, 74, 51, 0.6)\",\"line\":{\"color\":\"rgba(226, 74, 51, 1.0)\",\"width\":1}},\"name\":\"Rendimientos\",\"orientation\":\"v\",\"text\":\"\",\"x\":[\"2020-12-01\",\"2020-12-02\",\"2020-12-03\",\"2020-12-04\",\"2020-12-05\",\"2020-12-06\",\"2020-12-07\",\"2020-12-08\",\"2020-12-09\",\"2020-12-10\",\"2020-12-11\",\"2020-12-12\",\"2020-12-13\",\"2020-12-14\",\"2020-12-15\",\"2020-12-16\",\"2020-12-17\",\"2020-12-18\",\"2020-12-19\",\"2020-12-20\",\"2020-12-21\",\"2020-12-22\",\"2020-12-23\",\"2020-12-24\",\"2020-12-25\",\"2020-12-26\",\"2020-12-27\",\"2020-12-28\",\"2020-12-29\",\"2020-12-30\",\"2020-12-31\",\"2021-01-01\",\"2021-01-02\",\"2021-01-03\",\"2021-01-04\",\"2021-01-05\",\"2021-01-06\",\"2021-01-07\",\"2021-01-08\",\"2021-01-09\",\"2021-01-10\",\"2021-01-11\",\"2021-01-12\",\"2021-01-13\",\"2021-01-14\",\"2021-01-15\",\"2021-01-16\",\"2021-01-17\",\"2021-01-18\",\"2021-01-19\",\"2021-01-20\",\"2021-01-21\",\"2021-01-22\",\"2021-01-23\",\"2021-01-24\",\"2021-01-25\",\"2021-01-26\",\"2021-01-27\",\"2021-01-28\",\"2021-01-29\",\"2021-01-30\",\"2021-01-31\",\"2021-02-01\",\"2021-02-02\",\"2021-02-03\",\"2021-02-04\",\"2021-02-05\",\"2021-02-06\",\"2021-02-07\",\"2021-02-08\",\"2021-02-09\",\"2021-02-10\",\"2021-02-11\",\"2021-02-12\",\"2021-02-13\",\"2021-02-14\",\"2021-02-15\",\"2021-02-16\",\"2021-02-17\",\"2021-02-18\",\"2021-02-19\",\"2021-02-20\",\"2021-02-21\",\"2021-02-22\",\"2021-02-23\",\"2021-02-24\",\"2021-02-25\",\"2021-02-26\",\"2021-02-27\",\"2021-02-28\",\"2021-03-01\",\"2021-03-02\",\"2021-03-03\",\"2021-03-04\",\"2021-03-05\",\"2021-03-06\",\"2021-03-07\",\"2021-03-08\",\"2021-03-09\",\"2021-03-10\",\"2021-03-11\",\"2021-03-12\",\"2021-03-13\",\"2021-03-14\",\"2021-03-15\",\"2021-03-16\",\"2021-03-17\",\"2021-03-18\",\"2021-03-19\",\"2021-03-20\",\"2021-03-21\",\"2021-03-22\",\"2021-03-23\",\"2021-03-24\",\"2021-03-25\",\"2021-03-26\",\"2021-03-27\",\"2021-03-28\",\"2021-03-29\",\"2021-03-30\",\"2021-03-31\",\"2021-04-01\",\"2021-04-02\",\"2021-04-03\",\"2021-04-04\",\"2021-04-05\",\"2021-04-06\",\"2021-04-07\",\"2021-04-08\",\"2021-04-09\",\"2021-04-10\",\"2021-04-11\",\"2021-04-12\",\"2021-04-13\",\"2021-04-14\",\"2021-04-15\",\"2021-04-16\",\"2021-04-17\",\"2021-04-18\",\"2021-04-19\",\"2021-04-20\",\"2021-04-21\",\"2021-04-22\",\"2021-04-23\",\"2021-04-24\",\"2021-04-25\",\"2021-04-26\",\"2021-04-27\",\"2021-04-28\",\"2021-04-29\",\"2021-04-30\",\"2021-05-01\",\"2021-05-02\",\"2021-05-03\",\"2021-05-04\",\"2021-05-05\",\"2021-05-06\",\"2021-05-07\",\"2021-05-08\",\"2021-05-09\",\"2021-05-10\",\"2021-05-11\",\"2021-05-12\",\"2021-05-13\",\"2021-05-14\",\"2021-05-15\",\"2021-05-16\",\"2021-05-17\",\"2021-05-18\",\"2021-05-19\",\"2021-05-20\",\"2021-05-21\",\"2021-05-22\",\"2021-05-23\",\"2021-05-24\",\"2021-05-25\",\"2021-05-26\",\"2021-05-27\",\"2021-05-28\",\"2021-05-29\",\"2021-05-30\",\"2021-05-31\",\"2021-06-01\",\"2021-06-02\",\"2021-06-03\",\"2021-06-04\",\"2021-06-05\",\"2021-06-06\",\"2021-06-07\",\"2021-06-08\",\"2021-06-09\",\"2021-06-10\",\"2021-06-11\",\"2021-06-12\",\"2021-06-13\",\"2021-06-14\",\"2021-06-15\",\"2021-06-16\",\"2021-06-17\",\"2021-06-18\",\"2021-06-19\",\"2021-06-20\",\"2021-06-21\",\"2021-06-22\",\"2021-06-23\",\"2021-06-24\",\"2021-06-25\",\"2021-06-26\",\"2021-06-27\",\"2021-06-28\",\"2021-06-29\",\"2021-06-30\",\"2021-07-01\",\"2021-07-02\",\"2021-07-03\",\"2021-07-04\",\"2021-07-05\",\"2021-07-06\",\"2021-07-07\",\"2021-07-08\",\"2021-07-09\",\"2021-07-10\",\"2021-07-11\",\"2021-07-12\",\"2021-07-13\",\"2021-07-14\",\"2021-07-15\",\"2021-07-16\",\"2021-07-17\",\"2021-07-18\",\"2021-07-19\",\"2021-07-20\",\"2021-07-21\",\"2021-07-22\",\"2021-07-23\",\"2021-07-24\",\"2021-07-25\",\"2021-07-26\",\"2021-07-27\",\"2021-07-28\",\"2021-07-29\",\"2021-07-30\",\"2021-07-31\",\"2021-08-01\",\"2021-08-02\",\"2021-08-03\",\"2021-08-04\",\"2021-08-05\",\"2021-08-06\",\"2021-08-07\",\"2021-08-08\",\"2021-08-09\",\"2021-08-10\",\"2021-08-11\",\"2021-08-12\",\"2021-08-13\",\"2021-08-14\",\"2021-08-15\",\"2021-08-16\",\"2021-08-17\",\"2021-08-18\",\"2021-08-19\",\"2021-08-20\",\"2021-08-21\",\"2021-08-22\",\"2021-08-23\",\"2021-08-24\",\"2021-08-25\",\"2021-08-26\",\"2021-08-27\",\"2021-08-28\",\"2021-08-29\",\"2021-08-30\",\"2021-08-31\",\"2021-09-01\",\"2021-09-02\",\"2021-09-03\",\"2021-09-04\",\"2021-09-05\",\"2021-09-06\",\"2021-09-07\",\"2021-09-08\",\"2021-09-09\",\"2021-09-10\",\"2021-09-11\",\"2021-09-12\",\"2021-09-13\",\"2021-09-14\",\"2021-09-15\",\"2021-09-16\",\"2021-09-17\",\"2021-09-18\",\"2021-09-19\",\"2021-09-20\",\"2021-09-21\",\"2021-09-22\",\"2021-09-23\",\"2021-09-24\",\"2021-09-25\",\"2021-09-26\",\"2021-09-27\",\"2021-09-28\",\"2021-09-29\",\"2021-09-30\",\"2021-10-01\",\"2021-10-02\",\"2021-10-03\",\"2021-10-04\",\"2021-10-05\",\"2021-10-06\",\"2021-10-07\",\"2021-10-08\",\"2021-10-09\",\"2021-10-10\",\"2021-10-11\",\"2021-10-12\",\"2021-10-13\",\"2021-10-14\",\"2021-10-15\",\"2021-10-16\",\"2021-10-17\",\"2021-10-18\",\"2021-10-19\",\"2021-10-20\",\"2021-10-21\",\"2021-10-22\",\"2021-10-23\",\"2021-10-24\",\"2021-10-25\",\"2021-10-26\",\"2021-10-27\",\"2021-10-28\",\"2021-10-29\",\"2021-10-30\",\"2021-10-31\",\"2021-11-01\",\"2021-11-02\",\"2021-11-03\",\"2021-11-04\",\"2021-11-05\",\"2021-11-06\",\"2021-11-07\",\"2021-11-08\",\"2021-11-09\",\"2021-11-10\",\"2021-11-11\",\"2021-11-12\",\"2021-11-13\",\"2021-11-14\",\"2021-11-15\",\"2021-11-16\",\"2021-11-17\",\"2021-11-18\",\"2021-11-19\",\"2021-11-20\",\"2021-11-21\",\"2021-11-22\",\"2021-11-23\",\"2021-11-24\",\"2021-11-25\",\"2021-11-26\",\"2021-11-27\",\"2021-11-28\",\"2021-11-29\",\"2021-11-30\",\"2021-12-01\",\"2021-12-02\",\"2021-12-03\",\"2021-12-04\",\"2021-12-05\",\"2021-12-06\",\"2021-12-07\",\"2021-12-08\",\"2021-12-09\",\"2021-12-10\",\"2021-12-11\",\"2021-12-12\",\"2021-12-13\",\"2021-12-14\",\"2021-12-15\",\"2021-12-16\",\"2021-12-17\",\"2021-12-18\",\"2021-12-19\",\"2021-12-20\",\"2021-12-21\",\"2021-12-22\",\"2021-12-23\",\"2021-12-24\",\"2021-12-25\",\"2021-12-26\",\"2021-12-27\",\"2021-12-28\",\"2021-12-29\",\"2021-12-30\",\"2021-12-31\",\"2022-01-01\",\"2022-01-02\",\"2022-01-03\",\"2022-01-04\",\"2022-01-05\",\"2022-01-06\",\"2022-01-07\",\"2022-01-08\",\"2022-01-09\",\"2022-01-10\",\"2022-01-11\",\"2022-01-12\",\"2022-01-13\",\"2022-01-14\",\"2022-01-15\",\"2022-01-16\",\"2022-01-17\",\"2022-01-18\",\"2022-01-19\",\"2022-01-20\",\"2022-01-21\",\"2022-01-22\",\"2022-01-23\",\"2022-01-24\",\"2022-01-25\",\"2022-01-26\",\"2022-01-27\",\"2022-01-28\",\"2022-01-29\",\"2022-01-30\",\"2022-01-31\",\"2022-02-01\",\"2022-02-02\",\"2022-02-03\",\"2022-02-04\",\"2022-02-05\",\"2022-02-06\",\"2022-02-07\",\"2022-02-08\",\"2022-02-09\",\"2022-02-10\",\"2022-02-11\",\"2022-02-12\",\"2022-02-13\",\"2022-02-14\",\"2022-02-15\",\"2022-02-16\",\"2022-02-17\",\"2022-02-18\",\"2022-02-19\",\"2022-02-20\",\"2022-02-21\",\"2022-02-22\",\"2022-02-23\",\"2022-02-24\",\"2022-02-25\",\"2022-02-26\",\"2022-02-27\",\"2022-02-28\",\"2022-03-01\",\"2022-03-02\",\"2022-03-03\",\"2022-03-04\",\"2022-03-05\",\"2022-03-06\",\"2022-03-07\",\"2022-03-08\",\"2022-03-09\",\"2022-03-10\",\"2022-03-11\",\"2022-03-12\",\"2022-03-13\",\"2022-03-14\",\"2022-03-15\",\"2022-03-16\",\"2022-03-17\",\"2022-03-18\",\"2022-03-19\",\"2022-03-20\",\"2022-03-21\",\"2022-03-22\",\"2022-03-23\",\"2022-03-24\",\"2022-03-25\",\"2022-03-26\",\"2022-03-27\",\"2022-03-28\",\"2022-03-29\",\"2022-03-30\",\"2022-03-31\",\"2022-04-01\",\"2022-04-02\",\"2022-04-03\",\"2022-04-04\",\"2022-04-05\",\"2022-04-06\",\"2022-04-07\",\"2022-04-08\",\"2022-04-09\",\"2022-04-10\",\"2022-04-11\",\"2022-04-12\",\"2022-04-13\",\"2022-04-14\",\"2022-04-15\",\"2022-04-16\",\"2022-04-17\",\"2022-04-18\",\"2022-04-19\",\"2022-04-20\",\"2022-04-21\",\"2022-04-22\",\"2022-04-23\",\"2022-04-24\",\"2022-04-25\",\"2022-04-26\",\"2022-04-27\",\"2022-04-28\",\"2022-04-29\",\"2022-04-30\",\"2022-05-01\",\"2022-05-02\",\"2022-05-03\",\"2022-05-04\",\"2022-05-05\",\"2022-05-06\",\"2022-05-07\",\"2022-05-08\",\"2022-05-09\",\"2022-05-10\",\"2022-05-11\",\"2022-05-12\",\"2022-05-13\",\"2022-05-14\",\"2022-05-15\",\"2022-05-16\",\"2022-05-17\",\"2022-05-18\",\"2022-05-19\",\"2022-05-20\",\"2022-05-21\",\"2022-05-22\",\"2022-05-23\",\"2022-05-24\",\"2022-05-25\",\"2022-05-26\",\"2022-05-27\",\"2022-05-28\",\"2022-05-29\",\"2022-05-30\",\"2022-05-31\",\"2022-06-01\",\"2022-06-02\",\"2022-06-03\"],\"y\":[-0.08977226137356205,0.01667776606793598,0.03543686141286858,-0.09724190256535485,0.07764365262486073,-0.0049605517141482775,-0.02987238402444272,-0.08563717842914167,0.05124799412335499,-0.041681818913221876,-0.01811690038805217,0.03612743158005664,0.06547269421430334,0.025815514347698333,-0.023787744649737173,0.08603993374472017,-0.024395627086001254,0.009415731437229171,-0.0016123205095550607,-0.016633454575783045,-0.05770222032865632,0.02322550198211595,-0.12694430420628322,0.12037489814330896,0.03059793532284484,0.0017009659330145712,-0.021623888986235816,0.14436025689354787,0.08746021921384566,-0.04156815825207052,-0.014328867616553524,-0.03325580783974158,0.011770166287068402,0.15566967310306995,0.09513920376268183,0.1489968359298699,0.2836947644881283,-0.09718537602435619,0.017344333419483368,0.0895320774941675,-0.08429209446885548,-0.0968209984631572,0.04270317407520975,0.09390349111345285,-0.010046423970364394,-0.025837719494805556,0.16505793046295308,0.07809283137835518,-0.021875729881636743,-0.006245733221577068,0.01750434874345669,-0.17376526614032822,0.12747135967002465,-0.010560129101421584,0.024002707153933676,-0.028158877664016785,0.0011429795770949562,-0.09046004087085767,0.10576924724765935,-0.01196827800298693,0.041775118240755645,-0.04884062396108195,0.16593145510179264,0.057810895415035694,0.03624996956512126,-0.0006932720068620897,0.21927631500278774,0.16759956293902006,0.054714148274178795,0.030391908784859964,0.031329126477763015,0.32232339400166576,-0.0033110880146336413,-0.0016265835964637686,-0.021289788450177857,-0.06389612996289416,0.015553907184425803,0.011906552540823534,0.02297596165197898,0.026098094364746544,0.0146491188610225,0.21078595881937479,-0.01878061915948816,-0.001140520264871965,-0.13111032682365098,0.10125988536555512,0.02641077493762299,0.14829095490921557,0.0665904852720289,-0.011755672019209388,-0.013287666195942746,-0.05258700139399068,-0.007445383597631451,-0.08350309869976127,0.04834202648693567,-0.031216651413089172,0.00222659135344223,-0.013139296875632972,0.06887836258806271,-0.05028861621519501,-0.008482845891603598,-0.07617103936867846,0.06200823304981425,-0.0397359238881148,-0.023674608727359294,0.20296402799343105,0.10865463378674318,-0.10113775925277466,0.051358901906160534,-0.07294126203178776,-0.014332414023845394,-0.06670771283746058,0.011005557368036687,-0.04132812503322162,0.02522923412735483,0.10218029848833633,-0.030891678280768598,0.01215472389155381,0.009710497765356362,0.0089434576604799,-0.01681752873280972,-0.003610178253674899,0.006139357244531767,-0.0192664847127849,0.015726637973797947,0.01909106161465457,0.03382664885548567,-0.06396720630616405,0.03681907053539845,-0.013050169890636142,0.012650199827317184,0.03970583745974692,0.0394255875656886,0.07368719469446396,0.03148200576243438,0.01911123480081657,-0.04236066178155981,-0.020493120885653037,-0.07984526143457817,-0.06263360272848288,0.0597056792228643,-0.04811730314037327,-0.04724977210736768,0.008620904906309575,-0.04955889445234521,-0.013106824402606533,0.13193440496228434,0.05602156255926896,0.022741726171693045,-0.021758100991881045,0.03541052494778303,0.0004731593984811301,-0.01819592882455796,0.026445843978746875,-0.0651738395007295,0.16093253645748284,0.11637429093693709,0.002893243061990267,-0.021147792460452498,0.09270546838628722,-0.06872441250172462,0.07453172152788468,-0.11949495962781119,0.23285284795021885,0.04021878341251206,0.08342518782694387,0.06340469236095267,-0.11649641530993514,-0.0120511642828568,-0.26117166809862336,0.2299707702743765,-0.13886487192133667,-0.05762041181242045,-0.09568528383251261,0.17720906103471773,0.003222489981331703,0.1468281560863637,-0.07589366626375553,-0.08399731398563309,-0.0709496353130102,0.1231757124932312,0.1060734059342718,-0.0021248495695374457,0.009631277891669907,0.04891483205530371,-0.07353972870568952,-0.029771647222165094,0.01315276808832159,-0.06744467554174105,0.013387520190558248,0.02610695294816183,-0.058927591134306546,-0.06311175319583372,0.029559939498252058,0.05259393375656761,0.011618974089866936,0.01517665716498702,-0.04754456410201034,-0.0015924197255764,-0.04545020410762167,-0.01906949341877993,0.030113704418004435,-0.17487251037484783,-0.01870180144806006,0.08400378440212027,0.08364721496023658,-0.07579431166495111,-0.003078169129940118,0.0666026351941123,-0.009245287644791947,0.03238296896838615,0.007650584469089517,-0.034833433017986394,0.04610478997146007,0.009097994483965149,0.03858665459637061,-0.03854511605443475,0.009497369983887746,-0.009204471683780668,-0.053252621907988094,0.016731299470995085,-0.01083135881631886,0.009716313988054715,-0.024598282343026003,-0.037207763388095734,-0.002118636680243998,-0.032050535845308877,-0.04190439435198722,0.0006120289170690133,0.009248482531078904,-0.05150844258675912,-0.05920149443737435,0.10793804819732385,0.01359457296864503,0.016907972737575955,0.021891820518457377,-0.004106049709400031,0.02422921614429897,0.017929307118948832,0.002090866946125251,-0.0018733504980682724,0.018012984798716335,0.009512280180617016,-0.0016879489117741888,-0.004333598279099783,0.04249005299455324,0.004950405867488071,0.006685798714214203,0.011248745509849736,0.04859383797118557,-0.030729128438380986,0.03576503399128845,0.13374167046789215,0.07156895564938501,0.015633730292047676,0.16549853798269254,0.024973279073070946,-0.009472198965932833,-0.0408008756917777,-0.0703145645973001,0.09565187873814368,0.15322354540851035,0.008165985369178412,-0.00886331403219952,0.1136145990486198,0.07707627632977691,-0.06813163179799481,0.004587164389587685,-0.07501850002139636,0.1628997626052345,-0.03387735932086246,0.002090198603165765,-0.041245730280339156,0.012724059457788761,0.03639783095197108,0.03264674986399818,0.003015565166298791,-0.04503212159581853,0.02804210256152461,-0.02736795507652438,-0.11660379943735107,-0.012713170509111726,0.046101919840958655,-0.05233224275669642,0.10429544805953903,-0.02256957498280241,-0.0705113175018896,-0.0031408694689411673,0.043508001232006835,-0.03311651262722251,-0.02977946439098756,0.009605791527398754,-0.03698675172901948,-0.09610466604151656,-0.0445933462918866,0.14207565771094782,0.031530842869006634,-0.020496677145523716,0.009715729635219,-0.040803670152651725,-0.03441758748690445,-0.04410149540182854,0.013081237461631437,0.023160273021052495,0.06704215050778532,-0.0013625998129478812,0.0015809302187047099,-0.02780516753159233,0.020074214137584107,-0.009373552648521083,0.030296763464026544,-0.01791365854582627,0.01435999712343392,-0.030906564300958127,-0.008448338199802383,-0.024998615136964327,0.0328757763115724,-0.007719765776762394,0.019177913854641092,-0.017079737906295765,-0.009493772055751509,-0.013703609746439135,-0.007166069260837437,0.03535586628207475,-0.024227309708519672,0.0078062511356184715,0.005013411007144243,-0.020020608948773062,0.011446852973032553,-0.0023969569300624372,-0.10506822592520475,0.0397286370466263,0.012465428543305516,-0.02722633026722883,0.004685389615138941,-0.0076134045035653065,0.011056929338181793,0.04681788208317725,-0.038592738886397054,0.0007361293434994782,0.010730304647172678,0.007428651598699092,0.05068039547884032,0.0692790802455029,-0.07365611210534408,-0.0077291503175444766,-0.01750961958485072,0.0033784464785681584,-0.005481727960739572,-0.012571226339890313,-0.07120311230986734,-0.0012077681872272403,-0.04686906541043073,0.0434013258779656,0.030620390296881406,-0.043219752967633245,-0.033583423531339654,-0.015621841967715513,-0.037015377812460774,-0.009546189728742294,-0.08826599306726612,0.00924372579320172,0.029859589153276543,0.005021589988489526,-0.029460677056709204,-0.0032881953694114613,0.10832806558742254,-0.09540427520657715,-0.08834777603903833,-0.029919529623899842,0.03350082579366602,-0.028982855994119903,0.011684062265736062,-0.0741164757734873,-0.06198093209585447,0.11607070227166356,-0.003652479906115107,-0.09091734004966674,-0.001327165466827435,0.0359988115438407,-0.0543398973876367,-0.016806021071058497,0.018039078027421954,0.0018247054583611752,-0.004179582858533258,0.03594253436759593,0.03725892658873238,0.10975565667364275,-0.05530308863570482,0.04254023845517166,0.0017440440465233693,0.03920424183378705,-0.07446941515383004,-0.050748904596824455,0.020760128988723682,-0.03694386393806764,0.05102169967025979,0.0004117301183524978,-0.04062282745325471,-0.0074536248018039234,-0.05788512240917718,0.03608544711458099,-0.053417514209644246,-0.019774308169323976,-0.01164698786752023,-0.03896284856919223,0.05076264513299123,0.10036175520403318,-0.05479992777941436,0.046665668560137256,0.004007408747936372,0.08589795267698482,0.13202643681216214,-0.08201731673815704,-0.08409113361062517,-0.0623103832394355,-0.10769758906701529,-0.05018613068219753,0.051242771758973404,-0.050039931717930246,-0.02151395891851774,0.03394623965063072,-0.03263269159257538,0.0070665083203247615,0.008641575748800012,-0.021019232017418593,0.01415555462368791,0.03458163467034184,-0.05631709430444967,0.026982035539548,0.07515421411745374,-0.007672112294162521,0.015357871084746476,0.046271420526411956,-0.01580591912739573,0.014306130652371296,-0.03528941708652931,-0.06266340492897218,-0.020649420900281917,-0.0115206236153855,0.004589265943217982,0.054624888207733445,-0.02044905215335939,-0.05941345783752032,-0.022651941383817792,0.0007001268849202079,-0.06488084167247352,-0.07959230754331914,0.03599339086000503,-0.02229496150122429,-0.017374470739120504,0.05208112642506628,-0.011222781447845737,-0.033175690187545015,0.11885022028574267,0.0025628073147309573,-0.02469075629294501,-0.0384171404385077,-0.066354058960596,0.026681292104716422,-0.048442439617360014,-0.03199920694817594,0.005113067092556205,0.05964926527999053,-0.05067252817089797,-0.020063200133831054,0.0007606811653517764,0.000541410107563509,0.017086003052730985,-0.004770871943749372,0.04793612063618601,-0.0018822100789313903,0.02005125821280173,0.05604886486468362,-0.0268827379825805,0.04512192743747686,0.06495015090853255,0.1345267874441429,0.020598735989836237,-0.0286137385772025,0.04788554587502933,0.027056328841103233,-0.01027622529071995,0.018666947234661894,-0.0004995663951865461,-0.0407024490453234,0.02055507095025277,-0.008097313002987893,0.025981318762802987,0.022891743223301488,-0.03481201400405381,-0.1008044238475194,0.036809426364507555,-0.05982425117171892,0.018620437384542412,-0.013518520462011116,-0.10694103964945213,0.037525587423004644,0.020493703058756807,-0.04325706375104698,0.023793371018916935,-0.0021619158065276397,-0.036812446021223695,0.02094912139069814,0.017689707053676517,-0.01676657930758261,-0.028591496942889313,-0.0034942967888127504,-0.020593376928929024,-0.00217166529701804,0.013895879585406586,-0.07893811332469244,0.01577446114668326,0.00396733247163636,-0.04607849424484963,-0.060115063763650924,0.04446010723938303,-0.011071991248601577,-0.013161792860836814,0.16318746753988106,-0.11806219537751893,-0.009741281332816149,-0.027407870029871106,-0.029512414736872404,-0.17500936172462714,0.031134205333942046,-0.18444211627138915,-0.07651671169943863,0.11714599535972692,0.01969219895846081,0.10774112523544392,-0.06836526776003377,0.038406995260823855,-0.1253198149303576,0.055038718923279766,-0.02898016095234402,0.020098275935884022,0.027016492630250355,-0.05507807559981897,0.016651473511302323,-0.014129804608124194,-0.06434434689830332,-0.05229659797182525,0.014378780571015624,0.03527628705170215,0.18485289247925785,0.09693681269700251,-0.11618968362554127,0.0636205206944923,-0.04793519776213384],\"type\":\"bar\"}],                        {\"legend\":{\"bgcolor\":\"#FFFFFF\",\"font\":{\"color\":\"#666666\"}},\"paper_bgcolor\":\"#FFFFFF\",\"plot_bgcolor\":\"#E5E5E5\",\"template\":{\"data\":{\"barpolar\":[{\"marker\":{\"line\":{\"color\":\"#E5ECF6\",\"width\":0.5},\"pattern\":{\"fillmode\":\"overlay\",\"size\":10,\"solidity\":0.2}},\"type\":\"barpolar\"}],\"bar\":[{\"error_x\":{\"color\":\"#2a3f5f\"},\"error_y\":{\"color\":\"#2a3f5f\"},\"marker\":{\"line\":{\"color\":\"#E5ECF6\",\"width\":0.5},\"pattern\":{\"fillmode\":\"overlay\",\"size\":10,\"solidity\":0.2}},\"type\":\"bar\"}],\"carpet\":[{\"aaxis\":{\"endlinecolor\":\"#2a3f5f\",\"gridcolor\":\"white\",\"linecolor\":\"white\",\"minorgridcolor\":\"white\",\"startlinecolor\":\"#2a3f5f\"},\"baxis\":{\"endlinecolor\":\"#2a3f5f\",\"gridcolor\":\"white\",\"linecolor\":\"white\",\"minorgridcolor\":\"white\",\"startlinecolor\":\"#2a3f5f\"},\"type\":\"carpet\"}],\"choropleth\":[{\"colorbar\":{\"outlinewidth\":0,\"ticks\":\"\"},\"type\":\"choropleth\"}],\"contourcarpet\":[{\"colorbar\":{\"outlinewidth\":0,\"ticks\":\"\"},\"type\":\"contourcarpet\"}],\"contour\":[{\"colorbar\":{\"outlinewidth\":0,\"ticks\":\"\"},\"colorscale\":[[0.0,\"#0d0887\"],[0.1111111111111111,\"#46039f\"],[0.2222222222222222,\"#7201a8\"],[0.3333333333333333,\"#9c179e\"],[0.4444444444444444,\"#bd3786\"],[0.5555555555555556,\"#d8576b\"],[0.6666666666666666,\"#ed7953\"],[0.7777777777777778,\"#fb9f3a\"],[0.8888888888888888,\"#fdca26\"],[1.0,\"#f0f921\"]],\"type\":\"contour\"}],\"heatmapgl\":[{\"colorbar\":{\"outlinewidth\":0,\"ticks\":\"\"},\"colorscale\":[[0.0,\"#0d0887\"],[0.1111111111111111,\"#46039f\"],[0.2222222222222222,\"#7201a8\"],[0.3333333333333333,\"#9c179e\"],[0.4444444444444444,\"#bd3786\"],[0.5555555555555556,\"#d8576b\"],[0.6666666666666666,\"#ed7953\"],[0.7777777777777778,\"#fb9f3a\"],[0.8888888888888888,\"#fdca26\"],[1.0,\"#f0f921\"]],\"type\":\"heatmapgl\"}],\"heatmap\":[{\"colorbar\":{\"outlinewidth\":0,\"ticks\":\"\"},\"colorscale\":[[0.0,\"#0d0887\"],[0.1111111111111111,\"#46039f\"],[0.2222222222222222,\"#7201a8\"],[0.3333333333333333,\"#9c179e\"],[0.4444444444444444,\"#bd3786\"],[0.5555555555555556,\"#d8576b\"],[0.6666666666666666,\"#ed7953\"],[0.7777777777777778,\"#fb9f3a\"],[0.8888888888888888,\"#fdca26\"],[1.0,\"#f0f921\"]],\"type\":\"heatmap\"}],\"histogram2dcontour\":[{\"colorbar\":{\"outlinewidth\":0,\"ticks\":\"\"},\"colorscale\":[[0.0,\"#0d0887\"],[0.1111111111111111,\"#46039f\"],[0.2222222222222222,\"#7201a8\"],[0.3333333333333333,\"#9c179e\"],[0.4444444444444444,\"#bd3786\"],[0.5555555555555556,\"#d8576b\"],[0.6666666666666666,\"#ed7953\"],[0.7777777777777778,\"#fb9f3a\"],[0.8888888888888888,\"#fdca26\"],[1.0,\"#f0f921\"]],\"type\":\"histogram2dcontour\"}],\"histogram2d\":[{\"colorbar\":{\"outlinewidth\":0,\"ticks\":\"\"},\"colorscale\":[[0.0,\"#0d0887\"],[0.1111111111111111,\"#46039f\"],[0.2222222222222222,\"#7201a8\"],[0.3333333333333333,\"#9c179e\"],[0.4444444444444444,\"#bd3786\"],[0.5555555555555556,\"#d8576b\"],[0.6666666666666666,\"#ed7953\"],[0.7777777777777778,\"#fb9f3a\"],[0.8888888888888888,\"#fdca26\"],[1.0,\"#f0f921\"]],\"type\":\"histogram2d\"}],\"histogram\":[{\"marker\":{\"pattern\":{\"fillmode\":\"overlay\",\"size\":10,\"solidity\":0.2}},\"type\":\"histogram\"}],\"mesh3d\":[{\"colorbar\":{\"outlinewidth\":0,\"ticks\":\"\"},\"type\":\"mesh3d\"}],\"parcoords\":[{\"line\":{\"colorbar\":{\"outlinewidth\":0,\"ticks\":\"\"}},\"type\":\"parcoords\"}],\"pie\":[{\"automargin\":true,\"type\":\"pie\"}],\"scatter3d\":[{\"line\":{\"colorbar\":{\"outlinewidth\":0,\"ticks\":\"\"}},\"marker\":{\"colorbar\":{\"outlinewidth\":0,\"ticks\":\"\"}},\"type\":\"scatter3d\"}],\"scattercarpet\":[{\"marker\":{\"colorbar\":{\"outlinewidth\":0,\"ticks\":\"\"}},\"type\":\"scattercarpet\"}],\"scattergeo\":[{\"marker\":{\"colorbar\":{\"outlinewidth\":0,\"ticks\":\"\"}},\"type\":\"scattergeo\"}],\"scattergl\":[{\"marker\":{\"colorbar\":{\"outlinewidth\":0,\"ticks\":\"\"}},\"type\":\"scattergl\"}],\"scattermapbox\":[{\"marker\":{\"colorbar\":{\"outlinewidth\":0,\"ticks\":\"\"}},\"type\":\"scattermapbox\"}],\"scatterpolargl\":[{\"marker\":{\"colorbar\":{\"outlinewidth\":0,\"ticks\":\"\"}},\"type\":\"scatterpolargl\"}],\"scatterpolar\":[{\"marker\":{\"colorbar\":{\"outlinewidth\":0,\"ticks\":\"\"}},\"type\":\"scatterpolar\"}],\"scatter\":[{\"marker\":{\"colorbar\":{\"outlinewidth\":0,\"ticks\":\"\"}},\"type\":\"scatter\"}],\"scatterternary\":[{\"marker\":{\"colorbar\":{\"outlinewidth\":0,\"ticks\":\"\"}},\"type\":\"scatterternary\"}],\"surface\":[{\"colorbar\":{\"outlinewidth\":0,\"ticks\":\"\"},\"colorscale\":[[0.0,\"#0d0887\"],[0.1111111111111111,\"#46039f\"],[0.2222222222222222,\"#7201a8\"],[0.3333333333333333,\"#9c179e\"],[0.4444444444444444,\"#bd3786\"],[0.5555555555555556,\"#d8576b\"],[0.6666666666666666,\"#ed7953\"],[0.7777777777777778,\"#fb9f3a\"],[0.8888888888888888,\"#fdca26\"],[1.0,\"#f0f921\"]],\"type\":\"surface\"}],\"table\":[{\"cells\":{\"fill\":{\"color\":\"#EBF0F8\"},\"line\":{\"color\":\"white\"}},\"header\":{\"fill\":{\"color\":\"#C8D4E3\"},\"line\":{\"color\":\"white\"}},\"type\":\"table\"}]},\"layout\":{\"annotationdefaults\":{\"arrowcolor\":\"#2a3f5f\",\"arrowhead\":0,\"arrowwidth\":1},\"autotypenumbers\":\"strict\",\"coloraxis\":{\"colorbar\":{\"outlinewidth\":0,\"ticks\":\"\"}},\"colorscale\":{\"diverging\":[[0,\"#8e0152\"],[0.1,\"#c51b7d\"],[0.2,\"#de77ae\"],[0.3,\"#f1b6da\"],[0.4,\"#fde0ef\"],[0.5,\"#f7f7f7\"],[0.6,\"#e6f5d0\"],[0.7,\"#b8e186\"],[0.8,\"#7fbc41\"],[0.9,\"#4d9221\"],[1,\"#276419\"]],\"sequential\":[[0.0,\"#0d0887\"],[0.1111111111111111,\"#46039f\"],[0.2222222222222222,\"#7201a8\"],[0.3333333333333333,\"#9c179e\"],[0.4444444444444444,\"#bd3786\"],[0.5555555555555556,\"#d8576b\"],[0.6666666666666666,\"#ed7953\"],[0.7777777777777778,\"#fb9f3a\"],[0.8888888888888888,\"#fdca26\"],[1.0,\"#f0f921\"]],\"sequentialminus\":[[0.0,\"#0d0887\"],[0.1111111111111111,\"#46039f\"],[0.2222222222222222,\"#7201a8\"],[0.3333333333333333,\"#9c179e\"],[0.4444444444444444,\"#bd3786\"],[0.5555555555555556,\"#d8576b\"],[0.6666666666666666,\"#ed7953\"],[0.7777777777777778,\"#fb9f3a\"],[0.8888888888888888,\"#fdca26\"],[1.0,\"#f0f921\"]]},\"colorway\":[\"#636efa\",\"#EF553B\",\"#00cc96\",\"#ab63fa\",\"#FFA15A\",\"#19d3f3\",\"#FF6692\",\"#B6E880\",\"#FF97FF\",\"#FECB52\"],\"font\":{\"color\":\"#2a3f5f\"},\"geo\":{\"bgcolor\":\"white\",\"lakecolor\":\"white\",\"landcolor\":\"#E5ECF6\",\"showlakes\":true,\"showland\":true,\"subunitcolor\":\"white\"},\"hoverlabel\":{\"align\":\"left\"},\"hovermode\":\"closest\",\"mapbox\":{\"style\":\"light\"},\"paper_bgcolor\":\"white\",\"plot_bgcolor\":\"#E5ECF6\",\"polar\":{\"angularaxis\":{\"gridcolor\":\"white\",\"linecolor\":\"white\",\"ticks\":\"\"},\"bgcolor\":\"#E5ECF6\",\"radialaxis\":{\"gridcolor\":\"white\",\"linecolor\":\"white\",\"ticks\":\"\"}},\"scene\":{\"xaxis\":{\"backgroundcolor\":\"#E5ECF6\",\"gridcolor\":\"white\",\"gridwidth\":2,\"linecolor\":\"white\",\"showbackground\":true,\"ticks\":\"\",\"zerolinecolor\":\"white\"},\"yaxis\":{\"backgroundcolor\":\"#E5ECF6\",\"gridcolor\":\"white\",\"gridwidth\":2,\"linecolor\":\"white\",\"showbackground\":true,\"ticks\":\"\",\"zerolinecolor\":\"white\"},\"zaxis\":{\"backgroundcolor\":\"#E5ECF6\",\"gridcolor\":\"white\",\"gridwidth\":2,\"linecolor\":\"white\",\"showbackground\":true,\"ticks\":\"\",\"zerolinecolor\":\"white\"}},\"shapedefaults\":{\"line\":{\"color\":\"#2a3f5f\"}},\"ternary\":{\"aaxis\":{\"gridcolor\":\"white\",\"linecolor\":\"white\",\"ticks\":\"\"},\"baxis\":{\"gridcolor\":\"white\",\"linecolor\":\"white\",\"ticks\":\"\"},\"bgcolor\":\"#E5ECF6\",\"caxis\":{\"gridcolor\":\"white\",\"linecolor\":\"white\",\"ticks\":\"\"}},\"title\":{\"x\":0.05},\"xaxis\":{\"automargin\":true,\"gridcolor\":\"white\",\"linecolor\":\"white\",\"ticks\":\"\",\"title\":{\"standoff\":15},\"zerolinecolor\":\"white\",\"zerolinewidth\":2},\"yaxis\":{\"automargin\":true,\"gridcolor\":\"white\",\"linecolor\":\"white\",\"ticks\":\"\",\"title\":{\"standoff\":15},\"zerolinecolor\":\"white\",\"zerolinewidth\":2}}},\"title\":{\"font\":{\"color\":\"#151516\"}},\"xaxis\":{\"gridcolor\":\"#F6F6F6\",\"showgrid\":true,\"tickfont\":{\"color\":\"#666666\"},\"title\":{\"font\":{\"color\":\"#666666\"},\"text\":\"\"},\"zerolinecolor\":\"#F6F6F6\"},\"yaxis\":{\"gridcolor\":\"#F6F6F6\",\"showgrid\":true,\"tickfont\":{\"color\":\"#666666\"},\"title\":{\"font\":{\"color\":\"#666666\"},\"text\":\"\"},\"zerolinecolor\":\"#F6F6F6\"}},                        {\"showLink\": true, \"linkText\": \"Export to plot.ly\", \"plotlyServerURL\": \"https://plot.ly\", \"responsive\": true}                    ).then(function(){\n",
              "                            \n",
              "var gd = document.getElementById('195ed530-4e4b-45f5-924d-b3781ccc9e8a');\n",
              "var x = new MutationObserver(function (mutations, observer) {{\n",
              "        var display = window.getComputedStyle(gd).display;\n",
              "        if (!display || display === 'none') {{\n",
              "            console.log([gd, 'removed!']);\n",
              "            Plotly.purge(gd);\n",
              "            observer.disconnect();\n",
              "        }}\n",
              "}});\n",
              "\n",
              "// Listen for the removal of the full notebook cells\n",
              "var notebookContainer = gd.closest('#notebook-container');\n",
              "if (notebookContainer) {{\n",
              "    x.observe(notebookContainer, {childList: true});\n",
              "}}\n",
              "\n",
              "// Listen for the clearing of the current output cell\n",
              "var outputEl = gd.closest('.output');\n",
              "if (outputEl) {{\n",
              "    x.observe(outputEl, {childList: true});\n",
              "}}\n",
              "\n",
              "                        })                };                });            </script>        </div>"
            ]
          },
          "metadata": {}
        }
      ]
    },
    {
      "cell_type": "code",
      "source": [
        ""
      ],
      "metadata": {
        "id": "BbCrAY0kq5-6"
      },
      "execution_count": null,
      "outputs": []
    }
  ]
}